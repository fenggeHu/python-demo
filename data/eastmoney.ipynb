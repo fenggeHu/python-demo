{
 "cells": [
  {
   "cell_type": "code",
   "execution_count": 1,
   "metadata": {},
   "outputs": [],
   "source": [
    "import datetime\n",
    "import requests\n",
    "\n",
    "\n",
    "def gen_secid(symbol):\n",
    "    exchange = symbol[0:2]\n",
    "    code = symbol[2:]\n",
    "    if exchange == \"SH\":\n",
    "        return f\"1.{code}\"\n",
    "    elif exchange == \"ZS\":\n",
    "        f3 = code[0:3]\n",
    "        if f3 == \"000\":\n",
    "            return f\"1.{code}\"\n",
    "\n",
    "    return f\"0.{code}\"\n",
    "\n",
    "\n",
    "# 不复权\n",
    "def cn_chartbar(symbol, start=None, end=None):\n",
    "    if not start:\n",
    "        start = \"20100101\"\n",
    "    else:\n",
    "        start = start.replace(\"-\", \"\")\n",
    "    if not end:\n",
    "        end = datetime.datetime.now().strftime(\"%Y%m%d\")\n",
    "    else:\n",
    "        end = end.replace(\"-\", \"\")\n",
    "    secid = gen_secid(symbol)\n",
    "    # 不复权 : 0; 前复权 : 1; 后复权 : 2\n",
    "    url = f'https://push2his.eastmoney.com/api/qt/stock/kline/get?secid={secid}&fields1=f1%2Cf2%2Cf3%2Cf4%2Cf5' \\\n",
    "          f'&fields2=f51%2Cf52%2Cf53%2Cf54%2Cf55%2Cf56%2Cf57%2Cf58%2Cf59%2Cf60%2Cf61&klt=101' \\\n",
    "          f'&fqt=0&beg={start}&end={end}'\n",
    "    req = requests.get(url, timeout=30)  # request比pandas加载快\n",
    "    json = req.json()\n",
    "    return json"
   ]
  },
  {
   "cell_type": "code",
   "execution_count": 41,
   "metadata": {},
   "outputs": [],
   "source": [
    "symb = \"SZ000001\"\n",
    "json = cn_chartbar(symb, \"2021-01-01\")"
   ]
  },
  {
   "cell_type": "code",
   "execution_count": 43,
   "metadata": {},
   "outputs": [],
   "source": [
    "import pandas as pd\n",
    "klines = json['data']['klines']\n",
    "dt = [s.split(',') for s in klines]\n",
    "ori_labels = ['date','open','close','high','low','volume','turnover','amplitude','chg_pct','chg','turnover_rate']\n",
    "df = pd.DataFrame.from_records(dt, columns=ori_labels, index='date')\n",
    "df['volume'] = df.volume.map(lambda x: f'{x}100')\n",
    "labels = ['open','high','low','close','volume','turnover','amplitude','chg_pct','chg','turnover_rate']\n",
    "df = df[labels] # 调整一下column顺序\n",
    "df.to_csv(\"/Users/max/sz000001.csv\")\n",
    "# klines.insert(0,'date,open,close,high,low,volume,turnover,amplitude,chg_pct,chg,turnover_rate')\n",
    "# for s in klines:\n",
    "#         print(s)\n",
    "\n",
    "# dt = [s.split(',') for s in klines]\n",
    "# dt\n",
    "# df = pd.DataFrame(klines, columns=['date','open','close','high','low','volume','turnover','amplitude','chg_pct','chg','turnover_rate'])\n",
    "# df"
   ]
  },
  {
   "cell_type": "code",
   "execution_count": null,
   "metadata": {},
   "outputs": [],
   "source": [
    "# dt['data'] #['klines']\n",
    "# sh = cn_chartbar('SH000001')\n",
    "# sh  #7775\n",
    "# sz = cn_chartbar('SZ399001')\n",
    "# sz    #7728\n",
    "cy = cn_chartbar('SZ399006')\n",
    "cy    #3007"
   ]
  }
 ],
 "metadata": {
  "interpreter": {
   "hash": "382c3e16ab4f5cfd740fc55a872639e159a429038316ce1c7a003eae4e7542d1"
  },
  "kernelspec": {
   "display_name": "Python 3.8.10 64-bit ('backtrader38': conda)",
   "language": "python",
   "name": "python3"
  },
  "language_info": {
   "codemirror_mode": {
    "name": "ipython",
    "version": 3
   },
   "file_extension": ".py",
   "mimetype": "text/x-python",
   "name": "python",
   "nbconvert_exporter": "python",
   "pygments_lexer": "ipython3",
   "version": "3.8.10"
  },
  "orig_nbformat": 4
 },
 "nbformat": 4,
 "nbformat_minor": 2
}
