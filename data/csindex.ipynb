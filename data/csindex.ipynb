{
 "cells": [
  {
   "cell_type": "code",
   "execution_count": 23,
   "metadata": {},
   "outputs": [],
   "source": [
    "import requests\n",
    "import json"
   ]
  },
  {
   "cell_type": "code",
   "execution_count": 76,
   "metadata": {},
   "outputs": [],
   "source": [
    "csindex_url = \"https://www.csindex.com.cn/csindex-home/indexInfo/security-industry-search\"\n",
    "\n",
    "def cnSecurityIndustry():\n",
    "    page = 1\n",
    "    payload = {\n",
    "        \"pageNum\": page,\n",
    "        \"pageSize\": 40,\n",
    "        \"searchInput\": \"\"\n",
    "    }\n",
    "    ret = []\n",
    "    response = requests.post(csindex_url, json=payload)\n",
    "    if response.status_code!=200:\n",
    "        return ret\n",
    "    js = json.loads(response.text)\n",
    "    ret.extend(js['data'])\n",
    "    print('Page Count: ', js['size'])\n",
    "    while page+1 < js['size']:\n",
    "        page +=1\n",
    "        payload[\"pageNum\"] = page\n",
    "        # print('load page: ',page)\n",
    "        response = requests.post(csindex_url, json=payload)\n",
    "        js = json.loads(response.text)\n",
    "        ret.extend(js['data'])\n",
    "\n",
    "    return list(filter(lambda x: x['securityCode'].count(\".HK\")==0,ret))"
   ]
  },
  {
   "cell_type": "code",
   "execution_count": 77,
   "metadata": {},
   "outputs": [
    {
     "name": "stdout",
     "output_type": "stream",
     "text": [
      "Page Count:  194\n"
     ]
    }
   ],
   "source": [
    "response = cnSecurityIndustry()"
   ]
  },
  {
   "cell_type": "code",
   "execution_count": 90,
   "metadata": {},
   "outputs": [],
   "source": [
    "# python的filter返回的是一个Iterator惰性序列，需要用list()函数获得结果\n",
    "cnsi = list(filter(lambda x: x['securityCode'].count(\".HK\")==0,response))\n",
    "# len(response)\n",
    "# for val in response:\n",
    "#     if val['securityCode'].count(\".HK\")==0:\n",
    "#         print(val['securityCode'])\n",
    "    # print(val['securityCode'])\n",
    "    # val = response.index(i)\n",
    "    # print(val['securityCode'])"
   ]
  },
  {
   "cell_type": "code",
   "execution_count": 22,
   "metadata": {},
   "outputs": [
    {
     "data": {
      "text/plain": [
       "list"
      ]
     },
     "execution_count": 22,
     "metadata": {},
     "output_type": "execute_result"
    }
   ],
   "source": []
  }
 ],
 "metadata": {
  "interpreter": {
   "hash": "382c3e16ab4f5cfd740fc55a872639e159a429038316ce1c7a003eae4e7542d1"
  },
  "kernelspec": {
   "display_name": "Python 3.8.10 64-bit ('backtrader38': conda)",
   "language": "python",
   "name": "python3"
  },
  "language_info": {
   "codemirror_mode": {
    "name": "ipython",
    "version": 3
   },
   "file_extension": ".py",
   "mimetype": "text/x-python",
   "name": "python",
   "nbconvert_exporter": "python",
   "pygments_lexer": "ipython3",
   "version": "3.8.10"
  },
  "orig_nbformat": 4
 },
 "nbformat": 4,
 "nbformat_minor": 2
}
