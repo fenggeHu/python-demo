{
 "cells": [
  {
   "cell_type": "code",
   "execution_count": 6,
   "metadata": {},
   "outputs": [],
   "source": [
    "import akshare as ak\n"
   ]
  },
  {
   "cell_type": "code",
   "execution_count": null,
   "metadata": {},
   "outputs": [],
   "source": [
    "# 上海\n",
    "stock_sse_summary_df = ak.stock_sse_summary()\n",
    "stock_sse_summary_df"
   ]
  },
  {
   "cell_type": "code",
   "execution_count": null,
   "metadata": {},
   "outputs": [],
   "source": [
    "# 深圳\n",
    "stock_szse_summary_df = ak.stock_szse_summary(date=\"20200619\")\n",
    "stock_szse_summary_df"
   ]
  },
  {
   "cell_type": "code",
   "execution_count": null,
   "metadata": {},
   "outputs": [],
   "source": [
    "# 个股信息\n",
    "stock_individual_info_em_df = ak.stock_individual_info_em(symbol=\"300760\")\n",
    "stock_individual_info_em_df"
   ]
  },
  {
   "cell_type": "code",
   "execution_count": null,
   "metadata": {},
   "outputs": [],
   "source": [
    "# 行情报价\n",
    "stock_bid_ask_em_df = ak.stock_bid_ask_em(symbol=\"002472\")\n",
    "stock_bid_ask_em_df"
   ]
  },
  {
   "cell_type": "code",
   "execution_count": null,
   "metadata": {},
   "outputs": [],
   "source": [
    "# 实时行情\n",
    "stock_zh_a_spot_em_df = ak.stock_zh_a_spot_em()\n",
    "stock_zh_a_spot_em_df"
   ]
  }
 ],
 "metadata": {
  "kernelspec": {
   "display_name": "akshare",
   "language": "python",
   "name": "python3"
  },
  "language_info": {
   "codemirror_mode": {
    "name": "ipython",
    "version": 3
   },
   "file_extension": ".py",
   "mimetype": "text/x-python",
   "name": "python",
   "nbconvert_exporter": "python",
   "pygments_lexer": "ipython3",
   "version": "3.8.10"
  },
  "orig_nbformat": 4
 },
 "nbformat": 4,
 "nbformat_minor": 2
}
