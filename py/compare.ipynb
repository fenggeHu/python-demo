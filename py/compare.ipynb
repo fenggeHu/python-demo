{
 "cells": [
  {
   "cell_type": "code",
   "execution_count": 3,
   "metadata": {},
   "outputs": [
    {
     "data": {
      "text/plain": [
       "[1, 2, 3, 4, 5, 6]"
      ]
     },
     "execution_count": 3,
     "metadata": {},
     "output_type": "execute_result"
    }
   ],
   "source": [
    "def log(name, *args, **kwargs):\n",
    "    print('[{name}]: {args}')"
   ]
  }
 ],
 "metadata": {
  "interpreter": {
   "hash": "d985bfbc0c39e695b3842858cf8ac25f542e188c061feb8ff42ceecd5679821a"
  },
  "kernelspec": {
   "display_name": "Python 3.8.10 64-bit ('backtesting': conda)",
   "language": "python",
   "name": "python3"
  },
  "language_info": {
   "codemirror_mode": {
    "name": "ipython",
    "version": 3
   },
   "file_extension": ".py",
   "mimetype": "text/x-python",
   "name": "python",
   "nbconvert_exporter": "python",
   "pygments_lexer": "ipython3",
   "version": "3.8.10"
  },
  "orig_nbformat": 4
 },
 "nbformat": 4,
 "nbformat_minor": 2
}
