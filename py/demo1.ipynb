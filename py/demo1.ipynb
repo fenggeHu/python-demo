{
 "cells": [
  {
   "cell_type": "code",
   "execution_count": 21,
   "metadata": {},
   "outputs": [],
   "source": [
    "import itertools\n",
    "from datetime import date, datetime\n",
    "\n",
    "linetokens = \"2022-01-01,100.12,120.10,98.98,112.5,115.12,1242412500\".split(',')"
   ]
  },
  {
   "cell_type": "code",
   "execution_count": 44,
   "metadata": {},
   "outputs": [
    {
     "name": "stdout",
     "output_type": "stream",
     "text": [
      "100.12 120.1 98.98 112.5 1242412500.0 115.12\n",
      "2022-01-01 102.45168355555556 122.89699555555555 101.28513422222223 115.12 1242412500.0\n"
     ]
    }
   ],
   "source": [
    "i = itertools.count(0)\n",
    "dttxt = linetokens[next(i)]\n",
    "dt = date(int(dttxt[0:4]), int(dttxt[5:7]), int(dttxt[8:10]))\n",
    "o = float(linetokens[next(i)])\n",
    "h = float(linetokens[next(i)])\n",
    "l = float(linetokens[next(i)])\n",
    "c = float(linetokens[next(i)])\n",
    "adjustedclose = float(linetokens[next(i)])\n",
    "v = float(linetokens[next(i)])\n",
    "print(o,h,l,c,v,adjustedclose)\n",
    "adjfactor = c / adjustedclose\n",
    "\n",
    "o /= adjfactor\n",
    "h /= adjfactor\n",
    "l /= adjfactor\n",
    "c = adjustedclose\n",
    "\n",
    "print(dt, o,h,l,c,v)"
   ]
  }
 ],
 "metadata": {
  "interpreter": {
   "hash": "382c3e16ab4f5cfd740fc55a872639e159a429038316ce1c7a003eae4e7542d1"
  },
  "kernelspec": {
   "display_name": "Python 3.8.10 64-bit ('backtrader38': conda)",
   "language": "python",
   "name": "python3"
  },
  "language_info": {
   "codemirror_mode": {
    "name": "ipython",
    "version": 3
   },
   "file_extension": ".py",
   "mimetype": "text/x-python",
   "name": "python",
   "nbconvert_exporter": "python",
   "pygments_lexer": "ipython3",
   "version": "3.8.10"
  },
  "orig_nbformat": 4
 },
 "nbformat": 4,
 "nbformat_minor": 2
}
