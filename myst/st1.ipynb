{
 "cells": [
  {
   "cell_type": "code",
   "execution_count": 18,
   "metadata": {},
   "outputs": [],
   "source": [
    "import pandas as pd\n",
    "import backtrader as bt\n",
    "from datetime import datetime\n",
    "import yfinance as yf\n",
    "from pandas_datareader import data as pdr"
   ]
  },
  {
   "cell_type": "code",
   "execution_count": 19,
   "metadata": {},
   "outputs": [
    {
     "name": "stdout",
     "output_type": "stream",
     "text": [
      "[*********************100%***********************]  1 of 1 completed\n"
     ]
    }
   ],
   "source": [
    "# 通过yfinance下载\n",
    "yf.pdr_override()  # <== that's all it takes :-)\n",
    "symbol = \"AAPL\"\n",
    "df = pdr.get_data_yahoo(symbol, '2020-01-01','2022-12-31')# Set my column names\n",
    "df.columns=['high', 'low', 'open', 'close', 'volume', 'adj_close']\n",
    "data=bt.feeds.PandasData(dataname=df)\n"
   ]
  },
  {
   "cell_type": "code",
   "execution_count": 20,
   "metadata": {},
   "outputs": [],
   "source": [
    "class Strategy1(bt.Strategy):\n",
    "    def log(self, txt, dt=None):\n",
    "        dt = dt or self.datas[0].datetime.date(0)\n",
    "        print('%s: %s' % (dt.isoformat(), txt))\n",
    "\n",
    "    def __init__(self) -> None:\n",
    "        self.dataclose = self.datas[0].close\n",
    "        self.order = None\n",
    "        self.buyprice = None\n",
    "        self.buycomm = None\n",
    "\n",
    "        self.sma5 = bt.ind.SMA(self.datas[0], period=5)\n",
    "        self.rsi = bt.ind.RelativeStrengthIndex()\n",
    "\n",
    "    def next(self):\n",
    "        if self.order:\n",
    "            return\n",
    "        if self.dataclose > self.sma5:\n",
    "            self.log('buy')\n",
    "        if self.rsi > self.dataclose:\n",
    "            self.log('sell')\n"
   ]
  },
  {
   "cell_type": "code",
   "execution_count": null,
   "metadata": {},
   "outputs": [],
   "source": [
    "cerebro=bt.Cerebro()\n",
    "cerebro.addstrategy(Strategy1)\n",
    "cerebro.adddata(data)\n",
    "cerebro.run()\n",
    "cerebro.plot()"
   ]
  }
 ],
 "metadata": {
  "interpreter": {
   "hash": "382c3e16ab4f5cfd740fc55a872639e159a429038316ce1c7a003eae4e7542d1"
  },
  "kernelspec": {
   "display_name": "Python 3.8.10 64-bit ('backtrader38': conda)",
   "language": "python",
   "name": "python3"
  },
  "language_info": {
   "codemirror_mode": {
    "name": "ipython",
    "version": 3
   },
   "file_extension": ".py",
   "mimetype": "text/x-python",
   "name": "python",
   "nbconvert_exporter": "python",
   "pygments_lexer": "ipython3",
   "version": "3.8.10"
  },
  "orig_nbformat": 4
 },
 "nbformat": 4,
 "nbformat_minor": 2
}
