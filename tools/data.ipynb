{
 "cells": [
  {
   "cell_type": "code",
   "execution_count": 16,
   "metadata": {},
   "outputs": [
    {
     "name": "stdout",
     "output_type": "stream",
     "text": [
      "[*********************100%***********************]  5 of 5 completed\n",
      "\n",
      "5 Failed downloads:\n",
      "- AAPL: No data found for this date range, symbol may be delisted\n",
      "- SPY: No data found for this date range, symbol may be delisted\n",
      "- GOOG: No data found for this date range, symbol may be delisted\n",
      "- MSFT: No data found for this date range, symbol may be delisted\n",
      "- NVDA: No data found for this date range, symbol may be delisted\n"
     ]
    }
   ],
   "source": [
    "from pandas_datareader import data as pdr\n",
    "import yfinance as yf\n",
    "yf.pdr_override() # <== that's all it takes :-)\n",
    "\n",
    "df = pdr.get_data_yahoo('AAPL MSFT GOOG NVDA SPY', start='2021-01-01',group_by=\"ticker\")\n",
    "# df = yf.download('AAPL MSFT GOOG NVDA SPY', start='2021-01-01',group_by=\"ticker\")\n",
    "\n",
    "# df['ma_5'] = df['Adj Close'].rolling(5).mean()\n",
    "# df['ma_10'] = df['Adj Close'].rolling(10).mean()\n",
    "# df['ma_20'] = df['Adj Close'].rolling(20).mean()\n",
    "# df['vol_std_15'] = df['Volume'].rolling(15).std()\n",
    "# ndf = df.dropna()"
   ]
  },
  {
   "cell_type": "code",
   "execution_count": 17,
   "metadata": {},
   "outputs": [
    {
     "data": {
      "application/vnd.jupyter.widget-view+json": {
       "model_id": "516265592db24271953dfe7b19ac53d1",
       "version_major": 2,
       "version_minor": 0
      },
      "text/plain": [
       "Button(description='Toggle Pandas/Lux', layout=Layout(top='5px', width='140px'), style=ButtonStyle())"
      ]
     },
     "metadata": {},
     "output_type": "display_data"
    },
    {
     "data": {
      "application/vnd.jupyter.widget-view+json": {
       "model_id": "20572dad13bc467796016d99ba0040fd",
       "version_major": 2,
       "version_minor": 0
      },
      "text/plain": [
       "Output()"
      ]
     },
     "metadata": {},
     "output_type": "display_data"
    }
   ],
   "source": [
    "df"
   ]
  },
  {
   "cell_type": "code",
   "execution_count": null,
   "metadata": {},
   "outputs": [],
   "source": [
    "import lux\n",
    "import pandas as pd\n",
    "df.default_display = \"lux\"\n",
    "df"
   ]
  },
  {
   "cell_type": "code",
   "execution_count": 14,
   "metadata": {},
   "outputs": [
    {
     "data": {
      "application/vnd.jupyter.widget-view+json": {
       "model_id": "d7272cdb4fd249b38ef6c93898701c70",
       "version_major": 2,
       "version_minor": 0
      },
      "text/plain": [
       "Button(description='Toggle Pandas/Lux', layout=Layout(top='5px', width='140px'), style=ButtonStyle())"
      ]
     },
     "metadata": {},
     "output_type": "display_data"
    },
    {
     "data": {
      "application/vnd.jupyter.widget-view+json": {
       "model_id": "489d04244e7141fc89312f740f6a3f22",
       "version_major": 2,
       "version_minor": 0
      },
      "text/plain": [
       "Output()"
      ]
     },
     "metadata": {},
     "output_type": "display_data"
    }
   ],
   "source": [
    "df['GOOG']"
   ]
  },
  {
   "cell_type": "code",
   "execution_count": 5,
   "metadata": {},
   "outputs": [
    {
     "ename": "Exception",
     "evalue": "data loaded must be one of the following types: pandas.DataFrame, pandas.Series, pandas.DatetimeIndex, pandas.MultiIndex, xarray.Dataset, numpy.array, numpy.ndarray, list, dict",
     "output_type": "error",
     "traceback": [
      "\u001b[0;31m---------------------------------------------------------------------------\u001b[0m",
      "\u001b[0;31mException\u001b[0m                                 Traceback (most recent call last)",
      "Cell \u001b[0;32mIn [5], line 2\u001b[0m\n\u001b[1;32m      1\u001b[0m \u001b[38;5;28;01mimport\u001b[39;00m \u001b[38;5;21;01mdtale\u001b[39;00m\n\u001b[0;32m----> 2\u001b[0m \u001b[43mdtale\u001b[49m\u001b[38;5;241;43m.\u001b[39;49m\u001b[43mshow\u001b[49m\u001b[43m(\u001b[49m\u001b[43mdf\u001b[49m\u001b[43m)\u001b[49m\n",
      "File \u001b[0;32m/usr/local/anaconda3/envs/backtrader38/lib/python3.8/site-packages/dtale/app.py:746\u001b[0m, in \u001b[0;36mshow\u001b[0;34m(data, data_loader, name, context_vars, **options)\u001b[0m\n\u001b[1;32m    742\u001b[0m app_url \u001b[38;5;241m=\u001b[39m build_url(ACTIVE_PORT, ACTIVE_HOST)\n\u001b[1;32m    743\u001b[0m startup_url, final_app_root \u001b[38;5;241m=\u001b[39m build_startup_url_and_app_root(\n\u001b[1;32m    744\u001b[0m     final_options[\u001b[38;5;124m\"\u001b[39m\u001b[38;5;124mapp_root\u001b[39m\u001b[38;5;124m\"\u001b[39m]\n\u001b[1;32m    745\u001b[0m )\n\u001b[0;32m--> 746\u001b[0m instance \u001b[38;5;241m=\u001b[39m \u001b[43mstartup\u001b[49m\u001b[43m(\u001b[49m\n\u001b[1;32m    747\u001b[0m \u001b[43m    \u001b[49m\u001b[43mstartup_url\u001b[49m\u001b[43m,\u001b[49m\n\u001b[1;32m    748\u001b[0m \u001b[43m    \u001b[49m\u001b[43mdata\u001b[49m\u001b[38;5;241;43m=\u001b[39;49m\u001b[43mdata\u001b[49m\u001b[43m,\u001b[49m\n\u001b[1;32m    749\u001b[0m \u001b[43m    \u001b[49m\u001b[43mdata_loader\u001b[49m\u001b[38;5;241;43m=\u001b[39;49m\u001b[43mdata_loader\u001b[49m\u001b[43m,\u001b[49m\n\u001b[1;32m    750\u001b[0m \u001b[43m    \u001b[49m\u001b[43mname\u001b[49m\u001b[38;5;241;43m=\u001b[39;49m\u001b[43mname\u001b[49m\u001b[43m,\u001b[49m\n\u001b[1;32m    751\u001b[0m \u001b[43m    \u001b[49m\u001b[43mcontext_vars\u001b[49m\u001b[38;5;241;43m=\u001b[39;49m\u001b[43mcontext_vars\u001b[49m\u001b[43m,\u001b[49m\n\u001b[1;32m    752\u001b[0m \u001b[43m    \u001b[49m\u001b[43mignore_duplicate\u001b[49m\u001b[38;5;241;43m=\u001b[39;49m\u001b[43mfinal_options\u001b[49m\u001b[43m[\u001b[49m\u001b[38;5;124;43m\"\u001b[39;49m\u001b[38;5;124;43mignore_duplicate\u001b[39;49m\u001b[38;5;124;43m\"\u001b[39;49m\u001b[43m]\u001b[49m\u001b[43m,\u001b[49m\n\u001b[1;32m    753\u001b[0m \u001b[43m    \u001b[49m\u001b[43mallow_cell_edits\u001b[49m\u001b[38;5;241;43m=\u001b[39;49m\u001b[43mfinal_options\u001b[49m\u001b[43m[\u001b[49m\u001b[38;5;124;43m\"\u001b[39;49m\u001b[38;5;124;43mallow_cell_edits\u001b[39;49m\u001b[38;5;124;43m\"\u001b[39;49m\u001b[43m]\u001b[49m\u001b[43m,\u001b[49m\n\u001b[1;32m    754\u001b[0m \u001b[43m    \u001b[49m\u001b[43minplace\u001b[49m\u001b[38;5;241;43m=\u001b[39;49m\u001b[43mfinal_options\u001b[49m\u001b[43m[\u001b[49m\u001b[38;5;124;43m\"\u001b[39;49m\u001b[38;5;124;43minplace\u001b[39;49m\u001b[38;5;124;43m\"\u001b[39;49m\u001b[43m]\u001b[49m\u001b[43m,\u001b[49m\n\u001b[1;32m    755\u001b[0m \u001b[43m    \u001b[49m\u001b[43mdrop_index\u001b[49m\u001b[38;5;241;43m=\u001b[39;49m\u001b[43mfinal_options\u001b[49m\u001b[43m[\u001b[49m\u001b[38;5;124;43m\"\u001b[39;49m\u001b[38;5;124;43mdrop_index\u001b[39;49m\u001b[38;5;124;43m\"\u001b[39;49m\u001b[43m]\u001b[49m\u001b[43m,\u001b[49m\n\u001b[1;32m    756\u001b[0m \u001b[43m    \u001b[49m\u001b[43mprecision\u001b[49m\u001b[38;5;241;43m=\u001b[39;49m\u001b[43mfinal_options\u001b[49m\u001b[43m[\u001b[49m\u001b[38;5;124;43m\"\u001b[39;49m\u001b[38;5;124;43mprecision\u001b[39;49m\u001b[38;5;124;43m\"\u001b[39;49m\u001b[43m]\u001b[49m\u001b[43m,\u001b[49m\n\u001b[1;32m    757\u001b[0m \u001b[43m    \u001b[49m\u001b[43mshow_columns\u001b[49m\u001b[38;5;241;43m=\u001b[39;49m\u001b[43mfinal_options\u001b[49m\u001b[43m[\u001b[49m\u001b[38;5;124;43m\"\u001b[39;49m\u001b[38;5;124;43mshow_columns\u001b[39;49m\u001b[38;5;124;43m\"\u001b[39;49m\u001b[43m]\u001b[49m\u001b[43m,\u001b[49m\n\u001b[1;32m    758\u001b[0m \u001b[43m    \u001b[49m\u001b[43mhide_columns\u001b[49m\u001b[38;5;241;43m=\u001b[39;49m\u001b[43mfinal_options\u001b[49m\u001b[43m[\u001b[49m\u001b[38;5;124;43m\"\u001b[39;49m\u001b[38;5;124;43mhide_columns\u001b[39;49m\u001b[38;5;124;43m\"\u001b[39;49m\u001b[43m]\u001b[49m\u001b[43m,\u001b[49m\n\u001b[1;32m    759\u001b[0m \u001b[43m    \u001b[49m\u001b[43mcolumn_formats\u001b[49m\u001b[38;5;241;43m=\u001b[39;49m\u001b[43mfinal_options\u001b[49m\u001b[43m[\u001b[49m\u001b[38;5;124;43m\"\u001b[39;49m\u001b[38;5;124;43mcolumn_formats\u001b[39;49m\u001b[38;5;124;43m\"\u001b[39;49m\u001b[43m]\u001b[49m\u001b[43m,\u001b[49m\n\u001b[1;32m    760\u001b[0m \u001b[43m    \u001b[49m\u001b[43mnan_display\u001b[49m\u001b[38;5;241;43m=\u001b[39;49m\u001b[43mfinal_options\u001b[49m\u001b[43m[\u001b[49m\u001b[38;5;124;43m\"\u001b[39;49m\u001b[38;5;124;43mnan_display\u001b[39;49m\u001b[38;5;124;43m\"\u001b[39;49m\u001b[43m]\u001b[49m\u001b[43m,\u001b[49m\n\u001b[1;32m    761\u001b[0m \u001b[43m    \u001b[49m\u001b[43msort\u001b[49m\u001b[38;5;241;43m=\u001b[39;49m\u001b[43mfinal_options\u001b[49m\u001b[43m[\u001b[49m\u001b[38;5;124;43m\"\u001b[39;49m\u001b[38;5;124;43msort\u001b[39;49m\u001b[38;5;124;43m\"\u001b[39;49m\u001b[43m]\u001b[49m\u001b[43m,\u001b[49m\n\u001b[1;32m    762\u001b[0m \u001b[43m    \u001b[49m\u001b[43mlocked\u001b[49m\u001b[38;5;241;43m=\u001b[39;49m\u001b[43mfinal_options\u001b[49m\u001b[43m[\u001b[49m\u001b[38;5;124;43m\"\u001b[39;49m\u001b[38;5;124;43mlocked\u001b[39;49m\u001b[38;5;124;43m\"\u001b[39;49m\u001b[43m]\u001b[49m\u001b[43m,\u001b[49m\n\u001b[1;32m    763\u001b[0m \u001b[43m    \u001b[49m\u001b[43mbackground_mode\u001b[49m\u001b[38;5;241;43m=\u001b[39;49m\u001b[43mfinal_options\u001b[49m\u001b[43m[\u001b[49m\u001b[38;5;124;43m\"\u001b[39;49m\u001b[38;5;124;43mbackground_mode\u001b[39;49m\u001b[38;5;124;43m\"\u001b[39;49m\u001b[43m]\u001b[49m\u001b[43m,\u001b[49m\n\u001b[1;32m    764\u001b[0m \u001b[43m    \u001b[49m\u001b[43mrange_highlights\u001b[49m\u001b[38;5;241;43m=\u001b[39;49m\u001b[43mfinal_options\u001b[49m\u001b[43m[\u001b[49m\u001b[38;5;124;43m\"\u001b[39;49m\u001b[38;5;124;43mrange_highlights\u001b[39;49m\u001b[38;5;124;43m\"\u001b[39;49m\u001b[43m]\u001b[49m\u001b[43m,\u001b[49m\n\u001b[1;32m    765\u001b[0m \u001b[43m    \u001b[49m\u001b[43mvertical_headers\u001b[49m\u001b[38;5;241;43m=\u001b[39;49m\u001b[43mfinal_options\u001b[49m\u001b[43m[\u001b[49m\u001b[38;5;124;43m\"\u001b[39;49m\u001b[38;5;124;43mvertical_headers\u001b[39;49m\u001b[38;5;124;43m\"\u001b[39;49m\u001b[43m]\u001b[49m\u001b[43m,\u001b[49m\n\u001b[1;32m    766\u001b[0m \u001b[43m    \u001b[49m\u001b[43mis_proxy\u001b[49m\u001b[38;5;241;43m=\u001b[39;49m\u001b[43mJUPYTER_SERVER_PROXY\u001b[49m\u001b[43m,\u001b[49m\n\u001b[1;32m    767\u001b[0m \u001b[43m    \u001b[49m\u001b[43mapp_root\u001b[49m\u001b[38;5;241;43m=\u001b[39;49m\u001b[43mfinal_app_root\u001b[49m\u001b[43m,\u001b[49m\n\u001b[1;32m    768\u001b[0m \u001b[43m    \u001b[49m\u001b[43mhide_shutdown\u001b[49m\u001b[38;5;241;43m=\u001b[39;49m\u001b[43mfinal_options\u001b[49m\u001b[38;5;241;43m.\u001b[39;49m\u001b[43mget\u001b[49m\u001b[43m(\u001b[49m\u001b[38;5;124;43m\"\u001b[39;49m\u001b[38;5;124;43mhide_shutdown\u001b[39;49m\u001b[38;5;124;43m\"\u001b[39;49m\u001b[43m)\u001b[49m\u001b[43m,\u001b[49m\n\u001b[1;32m    769\u001b[0m \u001b[43m    \u001b[49m\u001b[43mcolumn_edit_options\u001b[49m\u001b[38;5;241;43m=\u001b[39;49m\u001b[43mfinal_options\u001b[49m\u001b[38;5;241;43m.\u001b[39;49m\u001b[43mget\u001b[49m\u001b[43m(\u001b[49m\u001b[38;5;124;43m\"\u001b[39;49m\u001b[38;5;124;43mcolumn_edit_options\u001b[39;49m\u001b[38;5;124;43m\"\u001b[39;49m\u001b[43m)\u001b[49m\u001b[43m,\u001b[49m\n\u001b[1;32m    770\u001b[0m \u001b[43m    \u001b[49m\u001b[43mauto_hide_empty_columns\u001b[49m\u001b[38;5;241;43m=\u001b[39;49m\u001b[43mfinal_options\u001b[49m\u001b[38;5;241;43m.\u001b[39;49m\u001b[43mget\u001b[49m\u001b[43m(\u001b[49m\u001b[38;5;124;43m\"\u001b[39;49m\u001b[38;5;124;43mauto_hide_empty_columns\u001b[39;49m\u001b[38;5;124;43m\"\u001b[39;49m\u001b[43m)\u001b[49m\u001b[43m,\u001b[49m\n\u001b[1;32m    771\u001b[0m \u001b[43m    \u001b[49m\u001b[43mhighlight_filter\u001b[49m\u001b[38;5;241;43m=\u001b[39;49m\u001b[43mfinal_options\u001b[49m\u001b[38;5;241;43m.\u001b[39;49m\u001b[43mget\u001b[49m\u001b[43m(\u001b[49m\u001b[38;5;124;43m\"\u001b[39;49m\u001b[38;5;124;43mhighlight_filter\u001b[39;49m\u001b[38;5;124;43m\"\u001b[39;49m\u001b[43m)\u001b[49m\u001b[43m,\u001b[49m\n\u001b[1;32m    772\u001b[0m \u001b[43m    \u001b[49m\u001b[43mhide_header_editor\u001b[49m\u001b[38;5;241;43m=\u001b[39;49m\u001b[43mfinal_options\u001b[49m\u001b[38;5;241;43m.\u001b[39;49m\u001b[43mget\u001b[49m\u001b[43m(\u001b[49m\u001b[38;5;124;43m\"\u001b[39;49m\u001b[38;5;124;43mhide_header_editor\u001b[39;49m\u001b[38;5;124;43m\"\u001b[39;49m\u001b[43m)\u001b[49m\u001b[43m,\u001b[49m\n\u001b[1;32m    773\u001b[0m \u001b[43m\u001b[49m\u001b[43m)\u001b[49m\n\u001b[1;32m    774\u001b[0m instance\u001b[38;5;241m.\u001b[39mstarted_with_open_browser \u001b[38;5;241m=\u001b[39m final_options[\u001b[38;5;124m\"\u001b[39m\u001b[38;5;124mopen_browser\u001b[39m\u001b[38;5;124m\"\u001b[39m]\n\u001b[1;32m    775\u001b[0m is_active \u001b[38;5;241m=\u001b[39m \u001b[38;5;129;01mnot\u001b[39;00m running_with_flask_debug() \u001b[38;5;129;01mand\u001b[39;00m is_up(app_url)\n",
      "File \u001b[0;32m/usr/local/anaconda3/envs/backtrader38/lib/python3.8/site-packages/dtale/views.py:1044\u001b[0m, in \u001b[0;36mstartup\u001b[0;34m(url, data, data_loader, name, data_id, context_vars, ignore_duplicate, allow_cell_edits, inplace, drop_index, precision, show_columns, hide_columns, optimize_dataframe, column_formats, nan_display, sort, locked, background_mode, range_highlights, app_root, is_proxy, vertical_headers, hide_shutdown, column_edit_options, auto_hide_empty_columns, highlight_filter, hide_header_editor)\u001b[0m\n\u001b[1;32m   1033\u001b[0m valid_types \u001b[38;5;241m=\u001b[39m (\n\u001b[1;32m   1034\u001b[0m     pd\u001b[38;5;241m.\u001b[39mDataFrame,\n\u001b[1;32m   1035\u001b[0m     pd\u001b[38;5;241m.\u001b[39mSeries,\n\u001b[0;32m   (...)\u001b[0m\n\u001b[1;32m   1041\u001b[0m     \u001b[38;5;28mdict\u001b[39m,\n\u001b[1;32m   1042\u001b[0m )\n\u001b[1;32m   1043\u001b[0m \u001b[38;5;28;01mif\u001b[39;00m \u001b[38;5;129;01mnot\u001b[39;00m \u001b[38;5;28misinstance\u001b[39m(data, valid_types):\n\u001b[0;32m-> 1044\u001b[0m     \u001b[38;5;28;01mraise\u001b[39;00m \u001b[38;5;167;01mException\u001b[39;00m(\n\u001b[1;32m   1045\u001b[0m         (\n\u001b[1;32m   1046\u001b[0m             \u001b[38;5;124m\"\u001b[39m\u001b[38;5;124mdata loaded must be one of the following types: pandas.DataFrame, pandas.Series, \u001b[39m\u001b[38;5;124m\"\u001b[39m\n\u001b[1;32m   1047\u001b[0m             \u001b[38;5;124m\"\u001b[39m\u001b[38;5;124mpandas.DatetimeIndex, pandas.MultiIndex, xarray.Dataset, numpy.array, numpy.ndarray, list, dict\u001b[39m\u001b[38;5;124m\"\u001b[39m\n\u001b[1;32m   1048\u001b[0m         )\n\u001b[1;32m   1049\u001b[0m     )\n\u001b[1;32m   1051\u001b[0m \u001b[38;5;28;01mif\u001b[39;00m \u001b[38;5;28misinstance\u001b[39m(data, xr\u001b[38;5;241m.\u001b[39mDataset):\n\u001b[1;32m   1052\u001b[0m     df \u001b[38;5;241m=\u001b[39m convert_xarray_to_dataset(data)\n",
      "\u001b[0;31mException\u001b[0m: data loaded must be one of the following types: pandas.DataFrame, pandas.Series, pandas.DatetimeIndex, pandas.MultiIndex, xarray.Dataset, numpy.array, numpy.ndarray, list, dict"
     ]
    }
   ],
   "source": [
    "import dtale\n",
    "dtale.show(df)"
   ]
  }
 ],
 "metadata": {
  "interpreter": {
   "hash": "382c3e16ab4f5cfd740fc55a872639e159a429038316ce1c7a003eae4e7542d1"
  },
  "kernelspec": {
   "display_name": "Python 3.8.10 64-bit ('backtrader38': conda)",
   "language": "python",
   "name": "python3"
  },
  "language_info": {
   "codemirror_mode": {
    "name": "ipython",
    "version": 3
   },
   "file_extension": ".py",
   "mimetype": "text/x-python",
   "name": "python",
   "nbconvert_exporter": "python",
   "pygments_lexer": "ipython3",
   "version": "3.8.10"
  },
  "orig_nbformat": 4
 },
 "nbformat": 4,
 "nbformat_minor": 2
}
