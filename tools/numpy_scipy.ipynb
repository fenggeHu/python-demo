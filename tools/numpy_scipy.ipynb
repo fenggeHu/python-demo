{
 "cells": [
  {
   "cell_type": "code",
   "execution_count": 1,
   "metadata": {},
   "outputs": [],
   "source": [
    "import numpy as np\n",
    "import scipy.stats as stats\n",
    "import scipy.optimize as opt\n"
   ]
  },
  {
   "cell_type": "code",
   "execution_count": null,
   "metadata": {},
   "outputs": [],
   "source": [
    "rv_unif = stats.uniform.rvs(size=10)\n",
    "rv_beta = stats.beta.rvs(size=10, a=4, b=2)\n",
    "rv_beta"
   ]
  },
  {
   "cell_type": "code",
   "execution_count": null,
   "metadata": {},
   "outputs": [],
   "source": [
    "import numpy\n",
    "\n",
    "ls = numpy.linspace(1, 20, 50, endpoint=False)\n",
    "ls"
   ]
  }
 ],
 "metadata": {
  "interpreter": {
   "hash": "d985bfbc0c39e695b3842858cf8ac25f542e188c061feb8ff42ceecd5679821a"
  },
  "kernelspec": {
   "display_name": "Python 3.8.10 64-bit ('backtesting': conda)",
   "language": "python",
   "name": "python3"
  },
  "language_info": {
   "codemirror_mode": {
    "name": "ipython",
    "version": 3
   },
   "file_extension": ".py",
   "mimetype": "text/x-python",
   "name": "python",
   "nbconvert_exporter": "python",
   "pygments_lexer": "ipython3",
   "version": "3.8.10"
  },
  "orig_nbformat": 4
 },
 "nbformat": 4,
 "nbformat_minor": 2
}
