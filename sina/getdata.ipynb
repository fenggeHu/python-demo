{
 "cells": [
  {
   "cell_type": "code",
   "execution_count": 44,
   "metadata": {},
   "outputs": [],
   "source": [
    "import pandas as pd\n",
    "import requests\n",
    "import json"
   ]
  },
  {
   "cell_type": "code",
   "execution_count": 7,
   "metadata": {},
   "outputs": [],
   "source": [
    "# HS300\n",
    "df = pd.read_html('http://vip.stock.finance.sina.com.cn/corp/view/vII_NewestComponent.php?page=1&indexid=000300')"
   ]
  },
  {
   "cell_type": "code",
   "execution_count": null,
   "metadata": {},
   "outputs": [],
   "source": [
    "df[3]"
   ]
  },
  {
   "cell_type": "code",
   "execution_count": 51,
   "metadata": {},
   "outputs": [],
   "source": [
    "m = requests.get(\"https://quotes.sina.cn/cn/api/openapi.php/CN_MinlineService.getMinlineData?symbol=sh601155&dpc=1\")"
   ]
  },
  {
   "cell_type": "code",
   "execution_count": 52,
   "metadata": {},
   "outputs": [],
   "source": [
    "js = json.loads(m.text)"
   ]
  },
  {
   "cell_type": "code",
   "execution_count": null,
   "metadata": {},
   "outputs": [],
   "source": [
    "js['result']['data']"
   ]
  },
  {
   "cell_type": "code",
   "execution_count": null,
   "metadata": {},
   "outputs": [],
   "source": [
    "params=(\n",
    "    ('pagesize','144'),\n",
    "    ('ut','124dfa21jj343jsfao'),\n",
    "    ('dpt','')\n",
    ")\n",
    "fenshi = requests.get(\"http://push2ex.eastmoney.com/getStockFenShi\")"
   ]
  },
  {
   "cell_type": "code",
   "execution_count": 55,
   "metadata": {},
   "outputs": [],
   "source": [
    "import get_data\n",
    "import json\n",
    "import pandas as pd"
   ]
  },
  {
   "cell_type": "code",
   "execution_count": 56,
   "metadata": {},
   "outputs": [],
   "source": [
    "# \n",
    "jss = get_data.minline('sh601155')\n",
    "js = json.loads(jss)\n",
    "dta = js['result']['data']"
   ]
  },
  {
   "cell_type": "code",
   "execution_count": 1,
   "metadata": {},
   "outputs": [
    {
     "ename": "NameError",
     "evalue": "name 'dta' is not defined",
     "output_type": "error",
     "traceback": [
      "\u001b[0;31m---------------------------------------------------------------------------\u001b[0m",
      "\u001b[0;31mNameError\u001b[0m                                 Traceback (most recent call last)",
      "Cell \u001b[0;32mIn [1], line 1\u001b[0m\n\u001b[0;32m----> 1\u001b[0m m \u001b[38;5;241m=\u001b[39m [(v[\u001b[38;5;124m'\u001b[39m\u001b[38;5;124mm\u001b[39m\u001b[38;5;124m'\u001b[39m],v[\u001b[38;5;124m'\u001b[39m\u001b[38;5;124mv\u001b[39m\u001b[38;5;124m'\u001b[39m],v[\u001b[38;5;124m'\u001b[39m\u001b[38;5;124mp\u001b[39m\u001b[38;5;124m'\u001b[39m]) \u001b[38;5;28;01mfor\u001b[39;00m v \u001b[38;5;129;01min\u001b[39;00m \u001b[43mdta\u001b[49m]\n",
      "\u001b[0;31mNameError\u001b[0m: name 'dta' is not defined"
     ]
    }
   ],
   "source": [
    "m = [(v['m'],v['v'],v['p']) for v in dta]"
   ]
  },
  {
   "cell_type": "code",
   "execution_count": 77,
   "metadata": {},
   "outputs": [],
   "source": [
    "m = {'time':[v['m'] for v in dta], 'volume':[v['v'] for v in dta], 'price':[v['p'] for v in dta],'avgPrice':[v['avg_p'] for v in dta]}\n",
    "df = pd.DataFrame(m)"
   ]
  },
  {
   "cell_type": "code",
   "execution_count": 80,
   "metadata": {},
   "outputs": [
    {
     "data": {
      "text/html": [
       "<div>\n",
       "<style scoped>\n",
       "    .dataframe tbody tr th:only-of-type {\n",
       "        vertical-align: middle;\n",
       "    }\n",
       "\n",
       "    .dataframe tbody tr th {\n",
       "        vertical-align: top;\n",
       "    }\n",
       "\n",
       "    .dataframe thead th {\n",
       "        text-align: right;\n",
       "    }\n",
       "</style>\n",
       "<table border=\"1\" class=\"dataframe\">\n",
       "  <thead>\n",
       "    <tr style=\"text-align: right;\">\n",
       "      <th></th>\n",
       "      <th>volume</th>\n",
       "      <th>price</th>\n",
       "      <th>avgPrice</th>\n",
       "    </tr>\n",
       "    <tr>\n",
       "      <th>time</th>\n",
       "      <th></th>\n",
       "      <th></th>\n",
       "      <th></th>\n",
       "    </tr>\n",
       "  </thead>\n",
       "  <tbody>\n",
       "    <tr>\n",
       "      <th>09:25:00</th>\n",
       "      <td>4234400</td>\n",
       "      <td>18.61</td>\n",
       "      <td>18.61</td>\n",
       "    </tr>\n",
       "    <tr>\n",
       "      <th>09:30:00</th>\n",
       "      <td>12847109</td>\n",
       "      <td>18.78</td>\n",
       "      <td>18.649</td>\n",
       "    </tr>\n",
       "    <tr>\n",
       "      <th>09:31:00</th>\n",
       "      <td>6975078</td>\n",
       "      <td>18.79</td>\n",
       "      <td>18.689</td>\n",
       "    </tr>\n",
       "    <tr>\n",
       "      <th>09:32:00</th>\n",
       "      <td>2938600</td>\n",
       "      <td>18.78</td>\n",
       "      <td>18.699</td>\n",
       "    </tr>\n",
       "    <tr>\n",
       "      <th>09:33:00</th>\n",
       "      <td>2837500</td>\n",
       "      <td>18.47</td>\n",
       "      <td>18.695</td>\n",
       "    </tr>\n",
       "    <tr>\n",
       "      <th>...</th>\n",
       "      <td>...</td>\n",
       "      <td>...</td>\n",
       "      <td>...</td>\n",
       "    </tr>\n",
       "    <tr>\n",
       "      <th>14:53:00</th>\n",
       "      <td>61200</td>\n",
       "      <td>18.79</td>\n",
       "      <td>18.701</td>\n",
       "    </tr>\n",
       "    <tr>\n",
       "      <th>14:54:00</th>\n",
       "      <td>29200</td>\n",
       "      <td>18.79</td>\n",
       "      <td>18.701</td>\n",
       "    </tr>\n",
       "    <tr>\n",
       "      <th>14:55:00</th>\n",
       "      <td>30100</td>\n",
       "      <td>18.79</td>\n",
       "      <td>18.701</td>\n",
       "    </tr>\n",
       "    <tr>\n",
       "      <th>14:56:00</th>\n",
       "      <td>8054</td>\n",
       "      <td>18.79</td>\n",
       "      <td>18.701</td>\n",
       "    </tr>\n",
       "    <tr>\n",
       "      <th>15:00:00</th>\n",
       "      <td>55200</td>\n",
       "      <td>18.79</td>\n",
       "      <td>18.701</td>\n",
       "    </tr>\n",
       "  </tbody>\n",
       "</table>\n",
       "<p>239 rows × 3 columns</p>\n",
       "</div>"
      ],
      "text/plain": [
       "            volume  price avgPrice\n",
       "time                              \n",
       "09:25:00   4234400  18.61    18.61\n",
       "09:30:00  12847109  18.78   18.649\n",
       "09:31:00   6975078  18.79   18.689\n",
       "09:32:00   2938600  18.78   18.699\n",
       "09:33:00   2837500  18.47   18.695\n",
       "...            ...    ...      ...\n",
       "14:53:00     61200  18.79   18.701\n",
       "14:54:00     29200  18.79   18.701\n",
       "14:55:00     30100  18.79   18.701\n",
       "14:56:00      8054  18.79   18.701\n",
       "15:00:00     55200  18.79   18.701\n",
       "\n",
       "[239 rows x 3 columns]"
      ]
     },
     "execution_count": 80,
     "metadata": {},
     "output_type": "execute_result"
    }
   ],
   "source": [
    "df.set_index('time', inplace=True)\n",
    "df"
   ]
  },
  {
   "cell_type": "code",
   "execution_count": 65,
   "metadata": {},
   "outputs": [
    {
     "data": {
      "text/html": [
       "<div>\n",
       "<style scoped>\n",
       "    .dataframe tbody tr th:only-of-type {\n",
       "        vertical-align: middle;\n",
       "    }\n",
       "\n",
       "    .dataframe tbody tr th {\n",
       "        vertical-align: top;\n",
       "    }\n",
       "\n",
       "    .dataframe thead th {\n",
       "        text-align: right;\n",
       "    }\n",
       "</style>\n",
       "<table border=\"1\" class=\"dataframe\">\n",
       "  <thead>\n",
       "    <tr style=\"text-align: right;\">\n",
       "      <th></th>\n",
       "      <th>time</th>\n",
       "      <th>volume</th>\n",
       "      <th>price</th>\n",
       "      <th>avgPrice</th>\n",
       "    </tr>\n",
       "  </thead>\n",
       "  <tbody>\n",
       "    <tr>\n",
       "      <th>0</th>\n",
       "      <td>09:25:00</td>\n",
       "      <td>4234400</td>\n",
       "      <td>18.61</td>\n",
       "      <td>18.61</td>\n",
       "    </tr>\n",
       "    <tr>\n",
       "      <th>1</th>\n",
       "      <td>09:30:00</td>\n",
       "      <td>12847109</td>\n",
       "      <td>18.78</td>\n",
       "      <td>18.649</td>\n",
       "    </tr>\n",
       "    <tr>\n",
       "      <th>2</th>\n",
       "      <td>09:31:00</td>\n",
       "      <td>6975078</td>\n",
       "      <td>18.79</td>\n",
       "      <td>18.689</td>\n",
       "    </tr>\n",
       "    <tr>\n",
       "      <th>3</th>\n",
       "      <td>09:32:00</td>\n",
       "      <td>2938600</td>\n",
       "      <td>18.78</td>\n",
       "      <td>18.699</td>\n",
       "    </tr>\n",
       "    <tr>\n",
       "      <th>4</th>\n",
       "      <td>09:33:00</td>\n",
       "      <td>2837500</td>\n",
       "      <td>18.47</td>\n",
       "      <td>18.695</td>\n",
       "    </tr>\n",
       "    <tr>\n",
       "      <th>...</th>\n",
       "      <td>...</td>\n",
       "      <td>...</td>\n",
       "      <td>...</td>\n",
       "      <td>...</td>\n",
       "    </tr>\n",
       "    <tr>\n",
       "      <th>234</th>\n",
       "      <td>14:53:00</td>\n",
       "      <td>61200</td>\n",
       "      <td>18.79</td>\n",
       "      <td>18.701</td>\n",
       "    </tr>\n",
       "    <tr>\n",
       "      <th>235</th>\n",
       "      <td>14:54:00</td>\n",
       "      <td>29200</td>\n",
       "      <td>18.79</td>\n",
       "      <td>18.701</td>\n",
       "    </tr>\n",
       "    <tr>\n",
       "      <th>236</th>\n",
       "      <td>14:55:00</td>\n",
       "      <td>30100</td>\n",
       "      <td>18.79</td>\n",
       "      <td>18.701</td>\n",
       "    </tr>\n",
       "    <tr>\n",
       "      <th>237</th>\n",
       "      <td>14:56:00</td>\n",
       "      <td>8054</td>\n",
       "      <td>18.79</td>\n",
       "      <td>18.701</td>\n",
       "    </tr>\n",
       "    <tr>\n",
       "      <th>238</th>\n",
       "      <td>15:00:00</td>\n",
       "      <td>55200</td>\n",
       "      <td>18.79</td>\n",
       "      <td>18.701</td>\n",
       "    </tr>\n",
       "  </tbody>\n",
       "</table>\n",
       "<p>239 rows × 4 columns</p>\n",
       "</div>"
      ],
      "text/plain": [
       "         time    volume  price avgPrice\n",
       "0    09:25:00   4234400  18.61    18.61\n",
       "1    09:30:00  12847109  18.78   18.649\n",
       "2    09:31:00   6975078  18.79   18.689\n",
       "3    09:32:00   2938600  18.78   18.699\n",
       "4    09:33:00   2837500  18.47   18.695\n",
       "..        ...       ...    ...      ...\n",
       "234  14:53:00     61200  18.79   18.701\n",
       "235  14:54:00     29200  18.79   18.701\n",
       "236  14:55:00     30100  18.79   18.701\n",
       "237  14:56:00      8054  18.79   18.701\n",
       "238  15:00:00     55200  18.79   18.701\n",
       "\n",
       "[239 rows x 4 columns]"
      ]
     },
     "execution_count": 65,
     "metadata": {},
     "output_type": "execute_result"
    }
   ],
   "source": [
    "df"
   ]
  }
 ],
 "metadata": {
  "interpreter": {
   "hash": "d985bfbc0c39e695b3842858cf8ac25f542e188c061feb8ff42ceecd5679821a"
  },
  "kernelspec": {
   "display_name": "Python 3.8.10 64-bit ('backtesting': conda)",
   "language": "python",
   "name": "python3"
  },
  "language_info": {
   "codemirror_mode": {
    "name": "ipython",
    "version": 3
   },
   "file_extension": ".py",
   "mimetype": "text/x-python",
   "name": "python",
   "nbconvert_exporter": "python",
   "pygments_lexer": "ipython3",
   "version": "3.8.10"
  },
  "orig_nbformat": 4
 },
 "nbformat": 4,
 "nbformat_minor": 2
}
