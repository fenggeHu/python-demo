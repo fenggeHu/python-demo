{
 "cells": [
  {
   "cell_type": "code",
   "execution_count": 3,
   "metadata": {},
   "outputs": [
    {
     "data": {
      "text/plain": [
       "'2.0.1'"
      ]
     },
     "execution_count": 3,
     "metadata": {},
     "output_type": "execute_result"
    }
   ],
   "source": [
    "import torch\n",
    "torch.__version__"
   ]
  },
  {
   "cell_type": "code",
   "execution_count": null,
   "metadata": {},
   "outputs": [],
   "source": [
    "# basic concepts: Tensor\n",
    "a = torch.tensor([[1,2,3],[100,200,300]])\n",
    "b = torch.randn(size = (10,3))\n",
    "c = torch.tensor(5)\n",
    "a, b, c"
   ]
  },
  {
   "cell_type": "code",
   "execution_count": 43,
   "metadata": {},
   "outputs": [],
   "source": [
    "x = torch.zeros(2, requires_grad=True)\n",
    "f = lambda x: (x - torch.tensor([3,-2])).pow(2).sum()\n",
    "lr=0.1"
   ]
  },
  {
   "cell_type": "code",
   "execution_count": 48,
   "metadata": {},
   "outputs": [
    {
     "name": "stdout",
     "output_type": "stream",
     "text": [
      "tensor(0.0161, grad_fn=<SumBackward0>)\n",
      "<bound method Tensor.backward of tensor(0.0161, grad_fn=<SumBackward0>)>\n"
     ]
    }
   ],
   "source": [
    "y = f(x)\n",
    "print(y)\n",
    "print(y.backward)"
   ]
  },
  {
   "cell_type": "code",
   "execution_count": 44,
   "metadata": {},
   "outputs": [
    {
     "name": "stdout",
     "output_type": "stream",
     "text": [
      "Step 0: x[0]=0.6000000238418579, x[1]=-0.4000000059604645\n",
      "Step 1: x[0]=1.0800000429153442, x[1]=-0.7200000286102295\n",
      "Step 2: x[0]=1.4639999866485596, x[1]=-0.9760000705718994\n",
      "Step 3: x[0]=1.7711999416351318, x[1]=-1.1808000802993774\n",
      "Step 4: x[0]=2.0169599056243896, x[1]=-1.3446400165557861\n",
      "Step 5: x[0]=2.2135679721832275, x[1]=-1.4757120609283447\n",
      "Step 6: x[0]=2.370854377746582, x[1]=-1.5805696249008179\n",
      "Step 7: x[0]=2.4966835975646973, x[1]=-1.6644556522369385\n",
      "Step 8: x[0]=2.597346782684326, x[1]=-1.7315645217895508\n",
      "Step 9: x[0]=2.677877426147461, x[1]=-1.7852516174316406\n",
      "Step 10: x[0]=2.7423019409179688, x[1]=-1.8282012939453125\n",
      "Step 11: x[0]=2.793841600418091, x[1]=-1.8625609874725342\n",
      "Step 12: x[0]=2.835073232650757, x[1]=-1.8900487422943115\n",
      "Step 13: x[0]=2.868058681488037, x[1]=-1.912039041519165\n",
      "Step 14: x[0]=2.894446849822998, x[1]=-1.929631233215332\n"
     ]
    }
   ],
   "source": [
    "for i in range(15):\n",
    "    y = f(x)\n",
    "    y.backward()\n",
    "    gr = x.grad\n",
    "    x.data.add_(-lr*gr)\n",
    "    x.grad.zero_()\n",
    "    print(\"Step {}: x[0]={}, x[1]={}\".format(i,x[0],x[1]))\n",
    "    "
   ]
  }
 ],
 "metadata": {
  "interpreter": {
   "hash": "c04e2a668962f87247e0260a0966f390b6082e8367e9d032c20418defe42390f"
  },
  "kernelspec": {
   "display_name": "Python 3.9.13 64-bit ('openai39': conda)",
   "language": "python",
   "name": "python3"
  },
  "language_info": {
   "codemirror_mode": {
    "name": "ipython",
    "version": 3
   },
   "file_extension": ".py",
   "mimetype": "text/x-python",
   "name": "python",
   "nbconvert_exporter": "python",
   "pygments_lexer": "ipython3",
   "version": "3.10.13"
  },
  "orig_nbformat": 4
 },
 "nbformat": 4,
 "nbformat_minor": 2
}
