{
 "cells": [
  {
   "cell_type": "code",
   "execution_count": 19,
   "metadata": {},
   "outputs": [
    {
     "name": "stdout",
     "output_type": "stream",
     "text": [
      "[*********************100%***********************]  1 of 1 completed\n"
     ]
    }
   ],
   "source": [
    "import yfinance as yf\n",
    "\n",
    "df = yf.download('AAPL', start='2011-01-01')"
   ]
  },
  {
   "cell_type": "code",
   "execution_count": 2,
   "metadata": {},
   "outputs": [
    {
     "ename": "NameError",
     "evalue": "name 'df' is not defined",
     "output_type": "error",
     "traceback": [
      "\u001b[0;31m---------------------------------------------------------------------------\u001b[0m",
      "\u001b[0;31mNameError\u001b[0m                                 Traceback (most recent call last)",
      "Cell \u001b[0;32mIn [2], line 1\u001b[0m\n\u001b[0;32m----> 1\u001b[0m df[\u001b[38;5;124m'\u001b[39m\u001b[38;5;124mma_5\u001b[39m\u001b[38;5;124m'\u001b[39m] \u001b[38;5;241m=\u001b[39m \u001b[43mdf\u001b[49m[\u001b[38;5;124m'\u001b[39m\u001b[38;5;124mAdj Close\u001b[39m\u001b[38;5;124m'\u001b[39m]\u001b[38;5;241m.\u001b[39mrolling(\u001b[38;5;241m5\u001b[39m)\u001b[38;5;241m.\u001b[39mmean()\n\u001b[1;32m      2\u001b[0m df[\u001b[38;5;124m'\u001b[39m\u001b[38;5;124mma_10\u001b[39m\u001b[38;5;124m'\u001b[39m] \u001b[38;5;241m=\u001b[39m df[\u001b[38;5;124m'\u001b[39m\u001b[38;5;124mAdj Close\u001b[39m\u001b[38;5;124m'\u001b[39m]\u001b[38;5;241m.\u001b[39mrolling(\u001b[38;5;241m10\u001b[39m)\u001b[38;5;241m.\u001b[39mmean()\n\u001b[1;32m      3\u001b[0m df[\u001b[38;5;124m'\u001b[39m\u001b[38;5;124mma_20\u001b[39m\u001b[38;5;124m'\u001b[39m] \u001b[38;5;241m=\u001b[39m df[\u001b[38;5;124m'\u001b[39m\u001b[38;5;124mAdj Close\u001b[39m\u001b[38;5;124m'\u001b[39m]\u001b[38;5;241m.\u001b[39mrolling(\u001b[38;5;241m20\u001b[39m)\u001b[38;5;241m.\u001b[39mmean()\n",
      "\u001b[0;31mNameError\u001b[0m: name 'df' is not defined"
     ]
    }
   ],
   "source": [
    "df['ma_5'] = df['Adj Close'].rolling(5).mean()\n",
    "df['ma_10'] = df['Adj Close'].rolling(10).mean()\n",
    "df['ma_20'] = df['Adj Close'].rolling(20).mean()\n",
    "df['vol_std_15'] = df['Volume'].rolling(15).std()\n",
    "ndf = df.dropna()"
   ]
  },
  {
   "cell_type": "code",
   "execution_count": 1,
   "metadata": {},
   "outputs": [
    {
     "ename": "NameError",
     "evalue": "name 'ndf' is not defined",
     "output_type": "error",
     "traceback": [
      "\u001b[0;31m---------------------------------------------------------------------------\u001b[0m",
      "\u001b[0;31mNameError\u001b[0m                                 Traceback (most recent call last)",
      "Cell \u001b[0;32mIn [1], line 3\u001b[0m\n\u001b[1;32m      1\u001b[0m \u001b[38;5;66;03m# ndf.loc['2022-05-01':][['Adj Close','ma_5','ma_10','ma_20']].plot()\u001b[39;00m\n\u001b[1;32m      2\u001b[0m \u001b[38;5;66;03m# ndf.loc['2022-05-01':]\u001b[39;00m\n\u001b[0;32m----> 3\u001b[0m \u001b[43mndf\u001b[49m\n",
      "\u001b[0;31mNameError\u001b[0m: name 'ndf' is not defined"
     ]
    }
   ],
   "source": [
    "# ndf.loc['2022-05-01':][['Adj Close','ma_5','ma_10','ma_20']].plot()\n",
    "# ndf.loc['2022-05-01':]"
   ]
  },
  {
   "cell_type": "code",
   "execution_count": null,
   "metadata": {},
   "outputs": [],
   "source": [
    "# pandas 数据查询 - 查询方式灵活多样. 其中 .loc既能查询，又能覆盖写入\n",
    "# df.index\n",
    "# df[['Close','Adj Close']]\n",
    "# df.iloc[2]  # 按行号取一行或范围，行号从0开始\n",
    "# df.iloc[2:5]  # 按行号取一行或范围，行号从0开始\n",
    "# df.iloc[20:]  # 按行号取一行或范围，行号从0开始\n",
    "# df.loc['2022-10-10']    # 按index值取一行或范围\n",
    "# df.loc['2022-10-10':]    # 按index值取一行或范围\n",
    "# df.loc['2022-10-10':,['Open','Adj Close']]    # 按index值取一行或范围,第二个指定列1或多个，默认返回所有列\n",
    "# df.loc['2022-10-10':,'Adj Close']\n",
    "# df.loc[(df['Adj Close']<11) & (df['Close']>=11)]  # 条件查询，多个条件只能用&和|，不能用and和or\n",
    "# df[(df['Close']>=170) & (df['Close']<=175)]     # (&) 括号不能省,多个条件只能用&和|，不能用and和or\n",
    "# df.loc['2022-08-01':][(df['Close']>=170) & (df['Close']<=175)]     # index和其它字段组合查询\n",
    "# query查询多个条件组合可以使用 and & or |\n",
    "# df.query(\"Open >= 180\")  # 条件查询\n",
    "# df.query(\"(Open >= 180) | (Close >181)\")  # 条件查询, | 或 or\n",
    "# df.query(\"(Open >= 170) and (Close >181)\")  # 条件查询, | 或 or\n"
   ]
  },
  {
   "cell_type": "code",
   "execution_count": null,
   "metadata": {},
   "outputs": [],
   "source": [
    "# lambda \n",
    "# df.loc[lambda df:(df['Close']>=170) & (df['Close']<=175)]\n",
    "# 定义一个查询函数，再传入df.loc\n",
    "# def query_data(df):\n",
    "#     return df.index.strftime('%Y-%m-%d')>='2022-01-10'\n",
    "# # 通过函数查询\n",
    "# df.loc[query_data]"
   ]
  }
 ],
 "metadata": {
  "interpreter": {
   "hash": "382c3e16ab4f5cfd740fc55a872639e159a429038316ce1c7a003eae4e7542d1"
  },
  "kernelspec": {
   "display_name": "Python 3.8.10 ('backtrader38')",
   "language": "python",
   "name": "python3"
  },
  "language_info": {
   "codemirror_mode": {
    "name": "ipython",
    "version": 3
   },
   "file_extension": ".py",
   "mimetype": "text/x-python",
   "name": "python",
   "nbconvert_exporter": "python",
   "pygments_lexer": "ipython3",
   "version": "3.8.10"
  },
  "orig_nbformat": 4
 },
 "nbformat": 4,
 "nbformat_minor": 2
}
