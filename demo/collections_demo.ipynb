{
 "cells": [
  {
   "cell_type": "code",
   "metadata": {
    "ExecuteTime": {
     "end_time": "2024-09-09T01:43:32.906406Z",
     "start_time": "2024-09-09T01:43:32.896382Z"
    }
   },
   "source": [
    "prices = {\n",
    "    'AAPL': 191.88,\n",
    "    'GOOG': 1186.96,\n",
    "    'IBM': 149.24,\n",
    "    'ORCL': 48.44,\n",
    "    'ACN': 166.89,\n",
    "    'META': 208.09,\n",
    "    'SYMC': 21.29,\n",
    "    'NVDA': 149.24\n",
    "}"
   ],
   "outputs": [],
   "execution_count": 1
  },
  {
   "cell_type": "code",
   "metadata": {
    "ExecuteTime": {
     "end_time": "2024-09-09T01:43:36.950285Z",
     "start_time": "2024-09-09T01:43:36.944637Z"
    }
   },
   "source": [
    "lst = [value for key, value in prices.items() if value >100]   # list - [191.88, 1186.96, 149.24, 166.89, 208.09, 149.24]\n",
    "set = {value for key, value in prices.items() if value >100}   # set - {1186.96, 166.89, 208.09, 149.24, 191.88}\n",
    "dicts = {key:value for key, value in prices.items() if value >100}   # dict\n",
    "tpls = tuple(lst)       # 内置函数 tuple()，可以将任何可迭代对象（包括列表、字符串、元组等）转换为元组\n",
    "tuple1 = ('APPL', 'SMFT', 'NVDA', 'GOOG',)   # tuple - 不可变的特性\n",
    "tuple2 = ('APPL',)   # 元组中只包含一个元素时，需要在元素后面添加逗号 , ，否则括号会被当作运算符使用"
   ],
   "outputs": [],
   "execution_count": 2
  },
  {
   "cell_type": "code",
   "metadata": {
    "ExecuteTime": {
     "end_time": "2024-09-09T01:43:40.026357Z",
     "start_time": "2024-09-09T01:43:40.016123Z"
    }
   },
   "source": [
    "tuple3 = tuple([v for v in lst if v>1000])\n",
    "tuple3"
   ],
   "outputs": [
    {
     "data": {
      "text/plain": [
       "(1186.96,)"
      ]
     },
     "execution_count": 3,
     "metadata": {},
     "output_type": "execute_result"
    }
   ],
   "execution_count": 3
  },
  {
   "cell_type": "code",
   "metadata": {
    "ExecuteTime": {
     "end_time": "2024-09-09T01:43:45.668942Z",
     "start_time": "2024-09-09T01:43:45.664090Z"
    }
   },
   "source": [
    "print(lst)\n",
    "print(set)\n",
    "print(dicts)\n",
    "print(tpls)\n",
    "print(tuple1)\n",
    "print(tuple2)"
   ],
   "outputs": [
    {
     "name": "stdout",
     "output_type": "stream",
     "text": [
      "[191.88, 1186.96, 149.24, 166.89, 208.09, 149.24]\n",
      "{1186.96, 166.89, 208.09, 149.24, 191.88}\n",
      "{'AAPL': 191.88, 'GOOG': 1186.96, 'IBM': 149.24, 'ACN': 166.89, 'META': 208.09, 'NVDA': 149.24}\n",
      "(191.88, 1186.96, 149.24, 166.89, 208.09, 149.24)\n",
      "('APPL', 'SMFT', 'NVDA', 'GOOG')\n",
      "('APPL',)\n"
     ]
    }
   ],
   "execution_count": 4
  }
 ],
 "metadata": {
  "kernelspec": {
   "display_name": "Python 3",
   "language": "python",
   "name": "python3"
  },
  "language_info": {
   "codemirror_mode": {
    "name": "ipython",
    "version": 3
   },
   "file_extension": ".py",
   "mimetype": "text/x-python",
   "name": "python",
   "nbconvert_exporter": "python",
   "pygments_lexer": "ipython3",
   "version": "3.9.6"
  },
  "orig_nbformat": 4
 },
 "nbformat": 4,
 "nbformat_minor": 2
}
