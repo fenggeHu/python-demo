{
 "cells": [
  {
   "cell_type": "code",
   "execution_count": 1,
   "metadata": {},
   "outputs": [],
   "source": [
    "prices = {\n",
    "    'AAPL': 191.88,\n",
    "    'GOOG': 1186.96,\n",
    "    'IBM': 149.24,\n",
    "    'ORCL': 48.44,\n",
    "    'ACN': 166.89,\n",
    "    'META': 208.09,\n",
    "    'SYMC': 21.29,\n",
    "    'NVDA': 149.24\n",
    "}"
   ]
  },
  {
   "cell_type": "code",
   "execution_count": 6,
   "metadata": {},
   "outputs": [],
   "source": [
    "lst = [value for key, value in prices.items() if value >100]   # list - [191.88, 1186.96, 149.24, 166.89, 208.09, 149.24]\n",
    "set = {value for key, value in prices.items() if value >100}   # set - {1186.96, 166.89, 208.09, 149.24, 191.88}\n",
    "dicts = {key:value for key, value in prices.items() if value >100}   # dict\n",
    "tpls = tuple(lst)       # 内置函数 tuple()，可以将任何可迭代对象（包括列表、字符串、元组等）转换为元组\n",
    "tuple1 = ('APPL', 'SMFT', 'NVDA', 'GOOG',)   # tuple - 不可变的特性\n",
    "tuple2 = ('APPL',)   # 元组中只包含一个元素时，需要在元素后面添加逗号 , ，否则括号会被当作运算符使用"
   ]
  },
  {
   "cell_type": "code",
   "execution_count": 14,
   "metadata": {},
   "outputs": [
    {
     "data": {
      "text/plain": [
       "(1186.96,)"
      ]
     },
     "execution_count": 14,
     "metadata": {},
     "output_type": "execute_result"
    }
   ],
   "source": [
    "tuple3 = tuple([v for v in lst if v>1000])\n",
    "tuple3"
   ]
  },
  {
   "cell_type": "code",
   "execution_count": 8,
   "metadata": {},
   "outputs": [
    {
     "name": "stdout",
     "output_type": "stream",
     "text": [
      "[191.88, 1186.96, 149.24, 166.89, 208.09, 149.24]\n",
      "{1186.96, 166.89, 208.09, 149.24, 191.88}\n",
      "{'AAPL': 191.88, 'GOOG': 1186.96, 'IBM': 149.24, 'ACN': 166.89, 'META': 208.09, 'NVDA': 149.24}\n",
      "(191.88, 1186.96, 149.24, 166.89, 208.09, 149.24)\n",
      "('APPL', 'SMFT', 'NVDA', 'GOOG')\n",
      "('APPL',)\n"
     ]
    }
   ],
   "source": [
    "print(lst)\n",
    "print(set)\n",
    "print(dicts)\n",
    "print(tpls)\n",
    "print(tuple1)\n",
    "print(tuple2)"
   ]
  }
 ],
 "metadata": {
  "kernelspec": {
   "display_name": "Python 3",
   "language": "python",
   "name": "python3"
  },
  "language_info": {
   "codemirror_mode": {
    "name": "ipython",
    "version": 3
   },
   "file_extension": ".py",
   "mimetype": "text/x-python",
   "name": "python",
   "nbconvert_exporter": "python",
   "pygments_lexer": "ipython3",
   "version": "3.9.6"
  },
  "orig_nbformat": 4
 },
 "nbformat": 4,
 "nbformat_minor": 2
}
