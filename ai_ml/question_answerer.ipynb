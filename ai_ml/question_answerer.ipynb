{
 "cells": [
  {
   "cell_type": "code",
   "execution_count": null,
   "metadata": {},
   "outputs": [],
   "source": [
    "from transformers import pipeline\n",
    "question_answerer = pipeline('question-answering')"
   ]
  }
 ],
 "metadata": {
  "interpreter": {
   "hash": "c04e2a668962f87247e0260a0966f390b6082e8367e9d032c20418defe42390f"
  },
  "kernelspec": {
   "display_name": "Python 3.9.13 64-bit ('openai39': conda)",
   "language": "python",
   "name": "python3"
  },
  "language_info": {
   "codemirror_mode": {
    "name": "ipython",
    "version": 3
   },
   "file_extension": ".py",
   "mimetype": "text/x-python",
   "name": "python",
   "nbconvert_exporter": "python",
   "pygments_lexer": "ipython3",
   "version": "3.9.13"
  },
  "orig_nbformat": 4
 },
 "nbformat": 4,
 "nbformat_minor": 2
}
