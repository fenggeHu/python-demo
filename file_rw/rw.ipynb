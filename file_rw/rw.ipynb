{
 "cells": [
  {
   "cell_type": "code",
   "execution_count": 15,
   "metadata": {},
   "outputs": [],
   "source": [
    "root = \"/Users/max/.tibet\"\n",
    "region = \"us\""
   ]
  },
  {
   "cell_type": "code",
   "execution_count": 16,
   "metadata": {},
   "outputs": [],
   "source": [
    "# 使用datareader从yahoo finance下载数据\n",
    "from pandas_datareader import data as pdr\n",
    "import yfinance as yf\n",
    "import pandas as pd\n",
    "# 通过yfinance下载\n",
    "yf.pdr_override()  # <== that's all it takes :-)\n",
    "\n",
    "def download(symbol, start, end):\n",
    "    data = pdr.get_data_yahoo(symbol, start, end)\n",
    "    filename = f'{root}/{region}/features/{symbol}/day.csv'\n",
    "    data.to_csv(filename)\n"
   ]
  },
  {
   "cell_type": "code",
   "execution_count": 31,
   "metadata": {},
   "outputs": [],
   "source": [
    "import os\n",
    "import sys\n",
    "import pandas as pd\n",
    "\n",
    "symbol = \"AAPL\"\n",
    "\n",
    "filepath = f'{root}/{region}/features/{symbol}'\n",
    "if not os.path.exists(filepath):\n",
    "    os.makedirs(filepath)\n",
    "\n",
    "# download(symbol,'2000-01-01','2022-12-31')\n",
    "filename = f'{filepath}/day.csv'\n",
    "if not os.path.exists(filename):\n",
    "    print(f'file not found: {filename}')\n",
    "    download(symbol,'2018-01-01','2022-12-31')\n",
    "    \n",
    "df = pd.read_csv(filename, index_col='Date') # 指定Date字段是index,date类型解析：parse_dates=['Date']\n"
   ]
  },
  {
   "cell_type": "code",
   "execution_count": 44,
   "metadata": {},
   "outputs": [],
   "source": [
    "# 因为读取到了yahoo的前复权Adj Close，这样计算前复权价\n",
    "def adj(df):\n",
    "    # for i in range(len(df)):\n",
    "    df['factor'] = df['Adj Close']/df['Close']\n",
    "    df['Adj Open'] = df['Open']*df['factor']\n",
    "    df['Adj High'] = df['High']*df['factor']\n",
    "    df['Adj Low'] = df['Low']*df['factor']\n"
   ]
  },
  {
   "cell_type": "code",
   "execution_count": 53,
   "metadata": {},
   "outputs": [],
   "source": [
    "# 计算复权价\n",
    "adj(df)\n",
    "ndf = df.loc['2022-01-01':]\n",
    "# ndf[(ndf['Close']!=ndf['Adj Close'])]\n"
   ]
  },
  {
   "cell_type": "code",
   "execution_count": 1,
   "metadata": {},
   "outputs": [
    {
     "ename": "NameError",
     "evalue": "name 'ndf' is not defined",
     "output_type": "error",
     "traceback": [
      "\u001b[0;31m---------------------------------------------------------------------------\u001b[0m",
      "\u001b[0;31mNameError\u001b[0m                                 Traceback (most recent call last)",
      "Cell \u001b[0;32mIn [1], line 3\u001b[0m\n\u001b[1;32m      1\u001b[0m \u001b[38;5;66;03m# ndf.loc['2022-08-01':]\u001b[39;00m\n\u001b[1;32m      2\u001b[0m \u001b[38;5;66;03m# ndf[ndf['factor']!=1]\u001b[39;00m\n\u001b[0;32m----> 3\u001b[0m \u001b[43mndf\u001b[49m[ndf[\u001b[38;5;124m'\u001b[39m\u001b[38;5;124mfactor\u001b[39m\u001b[38;5;124m'\u001b[39m]\u001b[38;5;241m==\u001b[39m\u001b[38;5;241m1\u001b[39m]\n",
      "\u001b[0;31mNameError\u001b[0m: name 'ndf' is not defined"
     ]
    }
   ],
   "source": [
    "# ndf.loc['2022-08-01':]\n",
    "# ndf[ndf['factor']!=1]\n",
    "ndf[ndf['factor']==1]"
   ]
  }
 ],
 "metadata": {
  "interpreter": {
   "hash": "382c3e16ab4f5cfd740fc55a872639e159a429038316ce1c7a003eae4e7542d1"
  },
  "kernelspec": {
   "display_name": "Python 3.8.10 64-bit ('backtrader38': conda)",
   "language": "python",
   "name": "python3"
  },
  "language_info": {
   "codemirror_mode": {
    "name": "ipython",
    "version": 3
   },
   "file_extension": ".py",
   "mimetype": "text/x-python",
   "name": "python",
   "nbconvert_exporter": "python",
   "pygments_lexer": "ipython3",
   "version": "3.8.10"
  },
  "orig_nbformat": 4
 },
 "nbformat": 4,
 "nbformat_minor": 2
}
