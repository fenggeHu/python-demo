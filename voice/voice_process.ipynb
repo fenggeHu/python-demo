{
 "cells": [
  {
   "cell_type": "code",
   "execution_count": 6,
   "metadata": {},
   "outputs": [
    {
     "name": "stdout",
     "output_type": "stream",
     "text": [
      "开始录音和实时处理...\n"
     ]
    },
    {
     "ename": "OSError",
     "evalue": "Stream not open",
     "output_type": "error",
     "traceback": [
      "\u001b[0;31m---------------------------------------------------------------------------\u001b[0m",
      "\u001b[0;31mOSError\u001b[0m                                   Traceback (most recent call last)",
      "Cell \u001b[0;32mIn[6], line 31\u001b[0m\n\u001b[1;32m     29\u001b[0m \u001b[39mwhile\u001b[39;00m \u001b[39mTrue\u001b[39;00m:\n\u001b[1;32m     30\u001b[0m     \u001b[39m# 读取音频数据\u001b[39;00m\n\u001b[0;32m---> 31\u001b[0m     data \u001b[39m=\u001b[39m stream\u001b[39m.\u001b[39;49mread(CHUNK)\n\u001b[1;32m     32\u001b[0m     audio_array \u001b[39m=\u001b[39m np\u001b[39m.\u001b[39mfrombuffer(data, dtype\u001b[39m=\u001b[39mnp\u001b[39m.\u001b[39mint16)\n",
      "File \u001b[0;32m/usr/local/anaconda3/envs/voiceAudio/lib/python3.10/site-packages/pyaudio/__init__.py:570\u001b[0m, in \u001b[0;36mPyAudio.Stream.read\u001b[0;34m(self, num_frames, exception_on_overflow)\u001b[0m\n\u001b[1;32m    568\u001b[0m     \u001b[39mraise\u001b[39;00m \u001b[39mIOError\u001b[39;00m(\u001b[39m\"\u001b[39m\u001b[39mNot input stream\u001b[39m\u001b[39m\"\u001b[39m,\n\u001b[1;32m    569\u001b[0m                   paCanNotReadFromAnOutputOnlyStream)\n\u001b[0;32m--> 570\u001b[0m \u001b[39mreturn\u001b[39;00m pa\u001b[39m.\u001b[39;49mread_stream(\u001b[39mself\u001b[39;49m\u001b[39m.\u001b[39;49m_stream, num_frames,\n\u001b[1;32m    571\u001b[0m                       exception_on_overflow)\n",
      "\u001b[0;31mOSError\u001b[0m: [Errno -9981] Input overflowed",
      "\nDuring handling of the above exception, another exception occurred:\n",
      "\u001b[0;31mOSError\u001b[0m                                   Traceback (most recent call last)",
      "Cell \u001b[0;32mIn[6], line 45\u001b[0m\n\u001b[1;32m     41\u001b[0m     \u001b[39mprint\u001b[39m(\u001b[39m\"\u001b[39m\u001b[39m录音和实时处理结束\u001b[39m\u001b[39m\"\u001b[39m)\n\u001b[1;32m     43\u001b[0m \u001b[39mfinally\u001b[39;00m:\n\u001b[1;32m     44\u001b[0m     \u001b[39m# 关闭流\u001b[39;00m\n\u001b[0;32m---> 45\u001b[0m     stream\u001b[39m.\u001b[39;49mstop_stream()\n\u001b[1;32m     46\u001b[0m     stream\u001b[39m.\u001b[39mclose()\n\u001b[1;32m     47\u001b[0m     output_stream\u001b[39m.\u001b[39mstop_stream()\n",
      "File \u001b[0;32m/usr/local/anaconda3/envs/voiceAudio/lib/python3.10/site-packages/pyaudio/__init__.py:500\u001b[0m, in \u001b[0;36mPyAudio.Stream.stop_stream\u001b[0;34m(self)\u001b[0m\n\u001b[1;32m    497\u001b[0m \u001b[39mif\u001b[39;00m \u001b[39mnot\u001b[39;00m \u001b[39mself\u001b[39m\u001b[39m.\u001b[39m_is_running:\n\u001b[1;32m    498\u001b[0m     \u001b[39mreturn\u001b[39;00m\n\u001b[0;32m--> 500\u001b[0m pa\u001b[39m.\u001b[39;49mstop_stream(\u001b[39mself\u001b[39;49m\u001b[39m.\u001b[39;49m_stream)\n\u001b[1;32m    501\u001b[0m \u001b[39mself\u001b[39m\u001b[39m.\u001b[39m_is_running \u001b[39m=\u001b[39m \u001b[39mFalse\u001b[39;00m\n",
      "\u001b[0;31mOSError\u001b[0m: Stream not open"
     ]
    }
   ],
   "source": [
    "import pyaudio\n",
    "import numpy as np\n",
    "from noisereduce import reduce_noise\n",
    "\n",
    "CHUNK = 1024  # 音频帧的大小\n",
    "FORMAT = pyaudio.paInt16\n",
    "CHANNELS = 1\n",
    "RATE = 44100  # 采样率\n",
    "\n",
    "p = pyaudio.PyAudio()\n",
    "\n",
    "# 打开麦克风输入流\n",
    "stream = p.open(format=FORMAT,\n",
    "                channels=CHANNELS,\n",
    "                rate=RATE,\n",
    "                input=True,\n",
    "                frames_per_buffer=CHUNK)\n",
    "\n",
    "# 打开音响输出流\n",
    "output_stream = p.open(format=FORMAT,\n",
    "                       channels=CHANNELS,\n",
    "                       rate=RATE,\n",
    "                       output=True,\n",
    "                       frames_per_buffer=CHUNK)\n",
    "\n",
    "print(\"开始录音和实时处理...\")\n",
    "\n",
    "try:\n",
    "    while True:\n",
    "        # 读取音频数据\n",
    "        data = stream.read(CHUNK)\n",
    "        audio_array = np.frombuffer(data, dtype=np.int16)\n",
    "\n",
    "        # 在这里添加对音频数据的处理，例如噪声降低\n",
    "        processed_audio = reduce_noise(audio_array)\n",
    "\n",
    "        # 将处理后的音频数据写入音响输出流\n",
    "        output_stream.write(processed_audio.tobytes())\n",
    "\n",
    "except KeyboardInterrupt:\n",
    "    print(\"录音和实时处理结束\")\n",
    "\n",
    "finally:\n",
    "    # 关闭流\n",
    "    stream.stop_stream()\n",
    "    stream.close()\n",
    "    output_stream.stop_stream()\n",
    "    output_stream.close()\n",
    "    p.terminate()\n"
   ]
  }
 ],
 "metadata": {
  "kernelspec": {
   "display_name": "voiceAudio",
   "language": "python",
   "name": "python3"
  },
  "language_info": {
   "codemirror_mode": {
    "name": "ipython",
    "version": 3
   },
   "file_extension": ".py",
   "mimetype": "text/x-python",
   "name": "python",
   "nbconvert_exporter": "python",
   "pygments_lexer": "ipython3",
   "version": "3.10.13"
  },
  "orig_nbformat": 4
 },
 "nbformat": 4,
 "nbformat_minor": 2
}
