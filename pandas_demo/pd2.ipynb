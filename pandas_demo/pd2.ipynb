{
 "cells": [
  {
   "cell_type": "code",
   "execution_count": 4,
   "metadata": {},
   "outputs": [],
   "source": [
    "# %%\n",
    "import pandas as pd\n",
    "local_data_path = '/Users/max/.tibet/cn/features/'\n",
    "\n",
    "symbol = 'SZ300760'\n",
    "ohlcv = pd.read_csv(local_data_path + symbol + \"/day.csv\", index_col='datetime').loc['2022-09-01':'2022-09-30']\n",
    "# %%"
   ]
  },
  {
   "cell_type": "code",
   "execution_count": 6,
   "metadata": {},
   "outputs": [
    {
     "name": "stdout",
     "output_type": "stream",
     "text": [
      "              open    high     low   close   volume\n",
      "datetime                                           \n",
      "2022-09-01  302.57  308.47  301.58  303.50  2908500\n",
      "2022-09-02  304.18  309.40  302.60  304.50  2209300\n",
      "2022-09-05  309.40  311.46  300.65  304.87  3965400\n",
      "2022-09-06  303.54  304.50  299.08  300.50  2320400\n",
      "2022-09-07  298.68  302.48  297.95  298.93  2113200\n"
     ]
    }
   ],
   "source": [
    "h05 = ohlcv[0:5]\n",
    "print(h05)"
   ]
  },
  {
   "cell_type": "code",
   "execution_count": null,
   "metadata": {},
   "outputs": [],
   "source": []
  }
 ],
 "metadata": {
  "interpreter": {
   "hash": "382c3e16ab4f5cfd740fc55a872639e159a429038316ce1c7a003eae4e7542d1"
  },
  "kernelspec": {
   "display_name": "Python 3.8.10 64-bit ('backtrader38': conda)",
   "language": "python",
   "name": "python3"
  },
  "language_info": {
   "codemirror_mode": {
    "name": "ipython",
    "version": 3
   },
   "file_extension": ".py",
   "mimetype": "text/x-python",
   "name": "python",
   "nbconvert_exporter": "python",
   "pygments_lexer": "ipython3",
   "version": "3.8.10"
  },
  "orig_nbformat": 4
 },
 "nbformat": 4,
 "nbformat_minor": 2
}
