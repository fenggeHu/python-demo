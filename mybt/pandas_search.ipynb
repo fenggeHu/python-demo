{
 "cells": [
  {
   "cell_type": "code",
   "execution_count": 1,
   "metadata": {},
   "outputs": [
    {
     "name": "stdout",
     "output_type": "stream",
     "text": [
      "[*********************100%***********************]  1 of 1 completed\n"
     ]
    }
   ],
   "source": [
    "import yfinance as yf\n",
    "\n",
    "df = yf.download('AAPL', start='2011-01-01')"
   ]
  },
  {
   "cell_type": "code",
   "execution_count": 2,
   "metadata": {},
   "outputs": [
    {
     "data": {
      "text/plain": [
       "DatetimeIndex(['2011-01-03 00:00:00-05:00', '2011-01-04 00:00:00-05:00',\n",
       "               '2011-01-05 00:00:00-05:00', '2011-01-06 00:00:00-05:00',\n",
       "               '2011-01-07 00:00:00-05:00', '2011-01-10 00:00:00-05:00',\n",
       "               '2011-01-11 00:00:00-05:00', '2011-01-12 00:00:00-05:00',\n",
       "               '2011-01-13 00:00:00-05:00', '2011-01-14 00:00:00-05:00',\n",
       "               ...\n",
       "               '2022-10-03 00:00:00-04:00', '2022-10-04 00:00:00-04:00',\n",
       "               '2022-10-05 00:00:00-04:00', '2022-10-06 00:00:00-04:00',\n",
       "               '2022-10-07 00:00:00-04:00', '2022-10-10 00:00:00-04:00',\n",
       "               '2022-10-11 00:00:00-04:00', '2022-10-12 00:00:00-04:00',\n",
       "               '2022-10-13 00:00:00-04:00', '2022-10-14 00:00:00-04:00'],\n",
       "              dtype='datetime64[ns, America/New_York]', name='Date', length=2967, freq=None)"
      ]
     },
     "execution_count": 2,
     "metadata": {},
     "output_type": "execute_result"
    }
   ],
   "source": [
    "# pandas 数据查询 - 查询方式灵活多样. 其中 .loc既能查询，又能覆盖写入\n",
    "df.index\n",
    "# df[['Close','Adj Close']]\n",
    "# df.iloc[2]  # 按行号取一行或范围，行号从0开始\n",
    "# df.iloc[2:5]  # 按行号取一行或范围，行号从0开始\n",
    "# df.iloc[20:]  # 按行号取一行或范围，行号从0开始\n",
    "# df.loc['2022-10-10']    # 按index值取一行或范围\n",
    "# df.loc['2022-10-10':]    # 按index值取一行或范围\n",
    "# df.loc['2022-10-10':,['Open','Adj Close']]    # 按index值取一行或范围,第二个指定列1或多个，默认返回所有列\n",
    "# df.loc['2022-10-10':,'Adj Close']\n",
    "# df.loc[(df['Adj Close']<11) & (df['Close']>=11)]  # 条件查询，多个条件只能用&和|，不能用and和or\n",
    "# df[(df['Close']>=170) & (df['Close']<=175)]     # (&) 括号不能省,多个条件只能用&和|，不能用and和or\n",
    "# df.loc['2022-08-01':][(df['Close']>=170) & (df['Close']<=175)]     # index和其它字段组合查询\n",
    "# query查询多个条件组合可以使用 and & or |\n",
    "# df.query(\"Open >= 180\")  # 条件查询\n",
    "# df.query(\"(Open >= 180) | (Close >181)\")  # 条件查询, | 或 or\n",
    "# df.query(\"(Open >= 170) and (Close >181)\")  # 条件查询, | 或 or\n"
   ]
  }
 ],
 "metadata": {
  "interpreter": {
   "hash": "382c3e16ab4f5cfd740fc55a872639e159a429038316ce1c7a003eae4e7542d1"
  },
  "kernelspec": {
   "display_name": "Python 3.8.10 ('backtrader38')",
   "language": "python",
   "name": "python3"
  },
  "language_info": {
   "codemirror_mode": {
    "name": "ipython",
    "version": 3
   },
   "file_extension": ".py",
   "mimetype": "text/x-python",
   "name": "python",
   "nbconvert_exporter": "python",
   "pygments_lexer": "ipython3",
   "version": "3.8.10"
  },
  "orig_nbformat": 4
 },
 "nbformat": 4,
 "nbformat_minor": 2
}
