{
 "cells": [
  {
   "cell_type": "code",
   "execution_count": 3,
   "metadata": {},
   "outputs": [],
   "source": [
    "import backtrader as bt\n",
    "import datetime\n",
    "import yfinance as yf\n",
    "%matplotlib inline"
   ]
  },
  {
   "cell_type": "code",
   "execution_count": 4,
   "metadata": {},
   "outputs": [],
   "source": [
    "cerebro = bt.Cerebro()"
   ]
  },
  {
   "cell_type": "code",
   "execution_count": 10,
   "metadata": {},
   "outputs": [
    {
     "name": "stdout",
     "output_type": "stream",
     "text": [
      "[*********************100%***********************]  1 of 1 completed\n",
      "                                 Open        High         Low       Close  \\\n",
      "Date                                                                        \n",
      "2011-01-03 00:00:00-05:00   11.630000   11.795000   11.601429   11.770357   \n",
      "2011-01-04 00:00:00-05:00   11.872857   11.875000   11.719643   11.831786   \n",
      "2011-01-05 00:00:00-05:00   11.769643   11.940714   11.767857   11.928571   \n",
      "2011-01-06 00:00:00-05:00   11.954286   11.973214   11.889286   11.918929   \n",
      "2011-01-07 00:00:00-05:00   11.928214   12.012500   11.853571   12.004286   \n",
      "...                               ...         ...         ...         ...   \n",
      "2022-10-10 00:00:00-04:00  140.419998  141.889999  138.570007  140.419998   \n",
      "2022-10-11 00:00:00-04:00  139.899994  141.350006  138.220001  138.979996   \n",
      "2022-10-12 00:00:00-04:00  139.130005  140.360001  138.160004  138.339996   \n",
      "2022-10-13 00:00:00-04:00  134.990005  143.589996  134.369995  142.990005   \n",
      "2022-10-14 00:00:00-04:00  144.309998  144.520004  138.190002  138.380005   \n",
      "\n",
      "                            Adj Close     Volume  \n",
      "Date                                              \n",
      "2011-01-03 00:00:00-05:00   10.049910  445138400  \n",
      "2011-01-04 00:00:00-05:00   10.102357  309080800  \n",
      "2011-01-05 00:00:00-05:00   10.184996  255519600  \n",
      "2011-01-06 00:00:00-05:00   10.176762  300428800  \n",
      "2011-01-07 00:00:00-05:00   10.249642  311931200  \n",
      "...                               ...        ...  \n",
      "2022-10-10 00:00:00-04:00  140.419998   74899000  \n",
      "2022-10-11 00:00:00-04:00  138.979996   77033700  \n",
      "2022-10-12 00:00:00-04:00  138.339996   70433700  \n",
      "2022-10-13 00:00:00-04:00  142.990005  113224000  \n",
      "2022-10-14 00:00:00-04:00  138.380005   88512300  \n",
      "\n",
      "[2967 rows x 6 columns]\n"
     ]
    }
   ],
   "source": [
    "df = yf.download('AAPL', start='2011-01-01')\n",
    "# print(df)"
   ]
  },
  {
   "cell_type": "code",
   "execution_count": 11,
   "metadata": {},
   "outputs": [],
   "source": [
    "feed = bt.feeds.PandasData(dataname=df)"
   ]
  },
  {
   "cell_type": "code",
   "execution_count": 7,
   "metadata": {},
   "outputs": [
    {
     "data": {
      "text/plain": [
       "<backtrader.feeds.pandafeed.PandasData at 0x7fbc0eb6b4f0>"
      ]
     },
     "execution_count": 7,
     "metadata": {},
     "output_type": "execute_result"
    }
   ],
   "source": [
    "cerebro.adddata(feed)"
   ]
  },
  {
   "cell_type": "code",
   "execution_count": 8,
   "metadata": {},
   "outputs": [
    {
     "data": {
      "text/plain": [
       "[<backtrader.strategy.Strategy at 0x7fbc0af3ddc0>]"
      ]
     },
     "execution_count": 8,
     "metadata": {},
     "output_type": "execute_result"
    }
   ],
   "source": [
    "cerebro.run()"
   ]
  },
  {
   "cell_type": "code",
   "execution_count": 14,
   "metadata": {},
   "outputs": [
    {
     "ename": "AttributeError",
     "evalue": "'str' object has no attribute 'plot'",
     "output_type": "error",
     "traceback": [
      "\u001b[0;31m---------------------------------------------------------------------------\u001b[0m",
      "\u001b[0;31mAttributeError\u001b[0m                            Traceback (most recent call last)",
      "Cell \u001b[0;32mIn [14], line 1\u001b[0m\n\u001b[0;32m----> 1\u001b[0m \u001b[43mcerebro\u001b[49m\u001b[38;5;241;43m.\u001b[39;49m\u001b[43mplot\u001b[49m\u001b[43m(\u001b[49m\u001b[38;5;124;43m'\u001b[39;49m\u001b[38;5;124;43mcandle\u001b[39;49m\u001b[38;5;124;43m'\u001b[39;49m\u001b[43m)\u001b[49m\n",
      "File \u001b[0;32m/usr/local/anaconda3/envs/backtrader38/lib/python3.8/site-packages/backtrader/cerebro.py:989\u001b[0m, in \u001b[0;36mCerebro.plot\u001b[0;34m(self, plotter, numfigs, iplot, start, end, width, height, dpi, tight, use, **kwargs)\u001b[0m\n\u001b[1;32m    987\u001b[0m \u001b[38;5;28;01mfor\u001b[39;00m stratlist \u001b[38;5;129;01min\u001b[39;00m \u001b[38;5;28mself\u001b[39m\u001b[38;5;241m.\u001b[39mrunstrats:\n\u001b[1;32m    988\u001b[0m     \u001b[38;5;28;01mfor\u001b[39;00m si, strat \u001b[38;5;129;01min\u001b[39;00m \u001b[38;5;28menumerate\u001b[39m(stratlist):\n\u001b[0;32m--> 989\u001b[0m         rfig \u001b[38;5;241m=\u001b[39m \u001b[43mplotter\u001b[49m\u001b[38;5;241;43m.\u001b[39;49m\u001b[43mplot\u001b[49m(strat, figid\u001b[38;5;241m=\u001b[39msi \u001b[38;5;241m*\u001b[39m \u001b[38;5;241m100\u001b[39m,\n\u001b[1;32m    990\u001b[0m                             numfigs\u001b[38;5;241m=\u001b[39mnumfigs, iplot\u001b[38;5;241m=\u001b[39miplot,\n\u001b[1;32m    991\u001b[0m                             start\u001b[38;5;241m=\u001b[39mstart, end\u001b[38;5;241m=\u001b[39mend, use\u001b[38;5;241m=\u001b[39muse)\n\u001b[1;32m    992\u001b[0m         \u001b[38;5;66;03m# pfillers=pfillers2)\u001b[39;00m\n\u001b[1;32m    994\u001b[0m         figs\u001b[38;5;241m.\u001b[39mappend(rfig)\n",
      "\u001b[0;31mAttributeError\u001b[0m: 'str' object has no attribute 'plot'"
     ]
    }
   ],
   "source": [
    "cerebro.plot()"
   ]
  }
 ],
 "metadata": {
  "interpreter": {
   "hash": "75c0d33926d120d64a5ae20035c84f621a13bf946b26bef57ee903aa51b027be"
  },
  "kernelspec": {
   "display_name": "Python 3.9.7 ('backtrader39')",
   "language": "python",
   "name": "python3"
  },
  "language_info": {
   "codemirror_mode": {
    "name": "ipython",
    "version": 3
   },
   "file_extension": ".py",
   "mimetype": "text/x-python",
   "name": "python",
   "nbconvert_exporter": "python",
   "pygments_lexer": "ipython3",
   "version": "3.8.10"
  },
  "orig_nbformat": 4
 },
 "nbformat": 4,
 "nbformat_minor": 2
}
