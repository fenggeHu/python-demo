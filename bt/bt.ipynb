{
 "cells": [
  {
   "cell_type": "code",
   "execution_count": 17,
   "metadata": {},
   "outputs": [],
   "source": [
    "# %%\n",
    "import pandas as pd\n",
    "import backtrader as bt\n",
    "import datetime\n",
    "\n",
    "local_data_path = '/Users/max/.tibet/cn/features/'\n",
    "\n",
    "symbol = 'SZ300760'\n",
    "ohlcv = pd.read_csv(local_data_path + symbol + \"/day.csv\", index_col='datetime', parse_dates=['datetime']) ##.loc['2022-01-01':'2022-01-31']\n",
    "# %%"
   ]
  },
  {
   "cell_type": "code",
   "execution_count": 18,
   "metadata": {},
   "outputs": [
    {
     "name": "stdout",
     "output_type": "stream",
     "text": [
      "SZ300760 data loaded\n"
     ]
    }
   ],
   "source": [
    "datafeed = bt.feeds.PandasData(dataname=ohlcv, fromdate=datetime.datetime(2021,1,1), \n",
    "todate=datetime.datetime(2022,10,10))\n",
    "# 实例化 cerebro\n",
    "cerebro = bt.Cerebro()\n",
    "cerebro.adddata(datafeed,name=symbol)\n",
    "print(f\"{symbol} data loaded\")"
   ]
  },
  {
   "cell_type": "code",
   "execution_count": 19,
   "metadata": {},
   "outputs": [],
   "source": [
    "# 初始资金\n",
    "cerebro.broker.setcash(200000.0)\n",
    "# 佣金\n",
    "cerebro.broker.setcommission(commission=0.0003)\n",
    "# 滑点\n",
    "cerebro.broker.set_slippage_perc(perc=0.005)\n",
    "cerebro.addanalyzer(bt.analyzers.TimeReturn, _name='pnl')  # 返回收益率时序数据\n",
    "cerebro.addanalyzer(bt.analyzers.AnnualReturn, _name='_AnnualReturn')  # 年化收益率\n",
    "cerebro.addanalyzer(bt.analyzers.SharpeRatio, _name='_SharpeRatio')  # 夏普比率\n",
    "cerebro.addanalyzer(bt.analyzers.DrawDown, _name='_DrawDown')  # 回撤"
   ]
  },
  {
   "cell_type": "code",
   "execution_count": 15,
   "metadata": {},
   "outputs": [
    {
     "data": {
      "text/plain": [
       "0"
      ]
     },
     "execution_count": 15,
     "metadata": {},
     "output_type": "execute_result"
    }
   ],
   "source": [
    "# 添加策略\n",
    "cerebro.addstrategy(bt.strategies.MA_CrossOver, printlog=True)"
   ]
  },
  {
   "cell_type": "code",
   "execution_count": 20,
   "metadata": {},
   "outputs": [
    {
     "name": "stdout",
     "output_type": "stream",
     "text": [
      "--------------- AnnualReturn -----------------\n",
      "OrderedDict([(2021, 0.0), (2022, 0.0)])\n",
      "--------------- SharpeRatio -----------------\n",
      "OrderedDict([('sharperatio', None)])\n",
      "--------------- DrawDown -----------------\n",
      "AutoOrderedDict([('len', 0), ('drawdown', 0.0), ('moneydown', 0.0), ('max', AutoOrderedDict([('len', 0.0), ('drawdown', 0.0), ('moneydown', 0.0)]))])\n"
     ]
    }
   ],
   "source": [
    "# 启动回测\n",
    "result = cerebro.run()\n",
    "# 从返回的 result 中提取回测结果\n",
    "strat = result[0]\n",
    "# 返回日度收益率序列\n",
    "daily_return = pd.Series(strat.analyzers.pnl.get_analysis())\n",
    "# 打印评价指标\n",
    "print(\"--------------- AnnualReturn -----------------\")\n",
    "print(strat.analyzers._AnnualReturn.get_analysis())\n",
    "print(\"--------------- SharpeRatio -----------------\")\n",
    "print(strat.analyzers._SharpeRatio.get_analysis())\n",
    "print(\"--------------- DrawDown -----------------\")\n",
    "print(strat.analyzers._DrawDown.get_analysis())"
   ]
  }
 ],
 "metadata": {
  "interpreter": {
   "hash": "382c3e16ab4f5cfd740fc55a872639e159a429038316ce1c7a003eae4e7542d1"
  },
  "kernelspec": {
   "display_name": "Python 3.8.10 64-bit ('backtrader38': conda)",
   "language": "python",
   "name": "python3"
  },
  "language_info": {
   "codemirror_mode": {
    "name": "ipython",
    "version": 3
   },
   "file_extension": ".py",
   "mimetype": "text/x-python",
   "name": "python",
   "nbconvert_exporter": "python",
   "pygments_lexer": "ipython3",
   "version": "3.8.10"
  },
  "orig_nbformat": 4
 },
 "nbformat": 4,
 "nbformat_minor": 2
}
