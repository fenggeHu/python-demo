{
 "cells": [
  {
   "cell_type": "code",
   "execution_count": 6,
   "metadata": {},
   "outputs": [],
   "source": [
    "from backtesting import Backtest\n",
    "# 找不到module\n",
    "import sys\n",
    "sys.path.append('/Users/max/mypython/python-demo')\n",
    "from data import eastmoney\n",
    "\n",
    "lines = eastmoney.cn_chartbar('SH000001',start='2022-01-01')\n",
    "df = eastmoney.to_df2(lines)"
   ]
  },
  {
   "cell_type": "code",
   "execution_count": null,
   "metadata": {},
   "outputs": [],
   "source": [
    "# jupyter notebook 每次都重新加载引用的py\n",
    "%reload_ext autoreload\n",
    "from btg import Btgs\n",
    "# import pandas as pd\n",
    "# df.index = pd.to_datetime(df.index)\n",
    "bt = Backtest(df, Btgs, commission=.002, exclusive_orders=True)\n",
    "stats = bt.run()\n",
    "bt.plot() "
   ]
  }
 ],
 "metadata": {
  "interpreter": {
   "hash": "382c3e16ab4f5cfd740fc55a872639e159a429038316ce1c7a003eae4e7542d1"
  },
  "kernelspec": {
   "display_name": "Python 3.8.10 64-bit ('backtrader38': conda)",
   "language": "python",
   "name": "python3"
  },
  "language_info": {
   "codemirror_mode": {
    "name": "ipython",
    "version": 3
   },
   "file_extension": ".py",
   "mimetype": "text/x-python",
   "name": "python",
   "nbconvert_exporter": "python",
   "pygments_lexer": "ipython3",
   "version": "3.8.10"
  },
  "orig_nbformat": 4
 },
 "nbformat": 4,
 "nbformat_minor": 2
}
