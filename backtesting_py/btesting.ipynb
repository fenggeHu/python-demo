{
 "cells": [
  {
   "cell_type": "code",
   "execution_count": null,
   "metadata": {},
   "outputs": [],
   "source": [
    "from backtesting import Backtest, Strategy\n",
    "from backtesting.lib import crossover\n",
    "from backtesting.test import SMA\n",
    "import pandas as pd\n",
    "import sys\n",
    "# 找不到module\n",
    "sys.path.append('/Users/max/mypython/python-demo')\n",
    "print(sys.path)\n",
    "\n",
    "# 创建策略\n",
    "class SmaCross(Strategy):\n",
    "    def init(self):\n",
    "        price = self.data.Close\n",
    "        self.ma1 = self.I(SMA, price, 10)\n",
    "        self.ma2 = self.I(SMA, price, 20)\n",
    "\n",
    "    def next(self):\n",
    "        if crossover(self.ma1, self.ma2):\n",
    "            self.buy()\n",
    "        elif crossover(self.ma2, self.ma1):\n",
    "            self.sell()"
   ]
  },
  {
   "cell_type": "code",
   "execution_count": null,
   "metadata": {},
   "outputs": [],
   "source": [
    "# 跑数据\n",
    "data = pd.read_csv(\"/Users/max/.tibet/cn/features/SZ300760/day.csv\", index_col='datetime', parse_dates=True, infer_datetime_format=True) \n",
    "data = data.loc['2022-06-01':'2022-09-30']\n",
    "# Backtest columns\n",
    "data.columns = ['Open', 'High', 'Low', 'Close', 'Volume']\n"
   ]
  },
  {
   "cell_type": "code",
   "execution_count": 19,
   "metadata": {},
   "outputs": [],
   "source": [
    "from data import eastmoney as et\n",
    "json = et.chartbar_json('SZ300760','2020-01-01', '2022-10-25', 1)\n",
    "df = et.to_df(json)\n",
    "data = df.iloc[:, :5] # 取钱5列\n",
    "data.columns = ['Open', 'High', 'Low', 'Close', 'Volume']\n"
   ]
  },
  {
   "cell_type": "code",
   "execution_count": 37,
   "metadata": {},
   "outputs": [],
   "source": [
    "from datetime import datetime\n",
    "df = data.loc['2021-01-01':]\n",
    "# df = data.dropna()\n",
    "df = df.apply(pd.to_numeric)\n",
    "df.index = df.index.map(lambda x: datetime.strptime(x,'%Y-%m-%d'))\n",
    "# isinstance(df.index[0],datetime)\n",
    "\n",
    "# columns = df.columns\n",
    "# df[columns] = df[columns].apply(pd.to_numeric,errors='coerce')\n",
    "# df"
   ]
  },
  {
   "cell_type": "code",
   "execution_count": null,
   "metadata": {},
   "outputs": [],
   "source": [
    "bt = Backtest(df, SmaCross, commission=.002, exclusive_orders=True)\n",
    "stats = bt.run()\n",
    "bt.plot() "
   ]
  }
 ],
 "metadata": {
  "interpreter": {
   "hash": "d985bfbc0c39e695b3842858cf8ac25f542e188c061feb8ff42ceecd5679821a"
  },
  "kernelspec": {
   "display_name": "Python 3.8.10 64-bit ('backtesting': conda)",
   "language": "python",
   "name": "python3"
  },
  "language_info": {
   "codemirror_mode": {
    "name": "ipython",
    "version": 3
   },
   "file_extension": ".py",
   "mimetype": "text/x-python",
   "name": "python",
   "nbconvert_exporter": "python",
   "pygments_lexer": "ipython3",
   "version": "3.8.10"
  },
  "orig_nbformat": 4
 },
 "nbformat": 4,
 "nbformat_minor": 2
}
